{
 "cells": [
  {
   "cell_type": "markdown",
   "metadata": {},
   "source": [
    "## 1. The Way of the Program\n",
    "\n",
    "#### Exercise 1-1\n",
    "1. In a print statement, what happens if you leave out one of the parentheses, or both?\n",
    "\n",
    "2. If you are trying to print a string, what happens if you leave out one of the quotation marks, or both?\n",
    "\n",
    "3. You can use a minus sign to make a negative number like -2. What happens if you put a plus sign before a number? What about 2++2?\n",
    "\n",
    "4. In math notation, leading zeros are okay, as in 02. What happens if you try this in Julia?\n",
    "\n",
    "5. What happens if you have two values with no operator between them?"
   ]
  },
  {
   "cell_type": "markdown",
   "metadata": {},
   "source": [
    "#### Exercise 1-2\n",
    "1. How many seconds are there in 42 minutes 42 seconds?\n",
    "2. How many miles are there in 10 kilometers?\n",
    "3. If you run a 10-kilometer race in 37 minutes 48 seconds, what is your average pace (time per mile in minutes and seconds)? What is your average speed in miles per hour?"
   ]
  },
  {
   "cell_type": "code",
   "execution_count": 1,
   "metadata": {},
   "outputs": [
    {
     "name": "stdout",
     "output_type": "stream",
     "text": [
      "Total seconds: 2580\n"
     ]
    }
   ],
   "source": [
    "println(\"Total seconds: $(43 * 60)\")"
   ]
  },
  {
   "cell_type": "code",
   "execution_count": 2,
   "metadata": {},
   "outputs": [
    {
     "name": "stdout",
     "output_type": "stream",
     "text": [
      "10 km equal 6.211180124223602 miles\n"
     ]
    }
   ],
   "source": [
    "println(\"10 km equal $(10 / 1.61) miles\")"
   ]
  },
  {
   "cell_type": "code",
   "execution_count": 3,
   "metadata": {},
   "outputs": [
    {
     "name": "stdout",
     "output_type": "stream",
     "text": [
      "Average pace: 6.0 minutes 5.0 seconds per mile\n"
     ]
    }
   ],
   "source": [
    "total_seconds = 37 * 60 + 48\n",
    "miles = 10 / 1.61\n",
    "pace = total_seconds / miles\n",
    "min, sec = divrem(pace, 60)\n",
    "println(\"Average pace: $min minutes $(round(sec)) seconds per mile\")"
   ]
  },
  {
   "cell_type": "code",
   "execution_count": 4,
   "metadata": {},
   "outputs": [
    {
     "name": "stdout",
     "output_type": "stream",
     "text": [
      "Average speed: 10.0 mph"
     ]
    }
   ],
   "source": [
    "print(\"Average speed: $(round(miles / total_seconds * 3600)) mph\")"
   ]
  },
  {
   "cell_type": "markdown",
   "metadata": {},
   "source": [
    "## 2. Variables, Expressions and Statements\n",
    "\n",
    "#### Exercise 2-3\n",
    "\n",
    "1. The volume of a sphere with radius $r$ is $\\frac{4}{3}43\\pi r^3$. What is the volume of a sphere with radius 5?\n",
    "\n",
    "2. Suppose the cover price of a book is `$24.95`, but bookstores get a `40%` discount. Shipping costs `$3` for the first copy and 75 cents for each additional copy. What is the total wholesale cost for 60 copies?\n",
    "\n",
    "3. If I leave my house at 6:52 am and run 1 mile at an easy pace (8:15 per mile), then 3 miles at tempo (7:12 per mile) and 1 mile at easy pace again, what time do I get home for breakfast?"
   ]
  },
  {
   "cell_type": "code",
   "execution_count": 5,
   "metadata": {},
   "outputs": [
    {
     "name": "stdout",
     "output_type": "stream",
     "text": [
      "Volume of a sphere with radius 5 is: 523.6"
     ]
    }
   ],
   "source": [
    "r = 5\n",
    "\n",
    "volume = round(4 / 3 * π * r ^ 3, digits=1)\n",
    "print(\"Volume of a sphere with radius 5 is: $volume\")"
   ]
  },
  {
   "cell_type": "code",
   "execution_count": 6,
   "metadata": {},
   "outputs": [
    {
     "name": "stdout",
     "output_type": "stream",
     "text": [
      "Total wholesale cost for 60 copies: $945.45"
     ]
    }
   ],
   "source": [
    "n = 60\n",
    "price = 24.95 * 0.6  # 40% discount\n",
    "shipping_cost = 3 + (n-1) * .75\n",
    "total = round(n * price + shipping_cost, digits=2)\n",
    "print(\"Total wholesale cost for $n copies: \\$$total\")"
   ]
  },
  {
   "cell_type": "code",
   "execution_count": 7,
   "metadata": {},
   "outputs": [
    {
     "name": "stdout",
     "output_type": "stream",
     "text": [
      "Total run time: 38 minutes, 6 seconds\n",
      "If I leave my house at 6:52 am, I'll get home at 7:30 am\n"
     ]
    }
   ],
   "source": [
    "easy = 8 * 60 + 15\n",
    "tempo = 7 * 60 + 12\n",
    "\n",
    "total_sec = easy * 2 + tempo * 3\n",
    "min, sec = divrem(total_sec, 60)\n",
    "println(\"Total run time: $min minutes, $sec seconds\")\n",
    "\n",
    "println(\"If I leave my house at 6:52 am, I'll get home at 7:30 am\")"
   ]
  },
  {
   "cell_type": "markdown",
   "metadata": {},
   "source": [
    "## 3. Functions\n",
    "\n",
    "#### Exercise 3-2\n",
    "Write a function named rightjustify that takes a string named s as a parameter and prints the string with enough leading spaces so that the last letter of the string is in column 70 of the display."
   ]
  },
  {
   "cell_type": "code",
   "execution_count": 8,
   "metadata": {},
   "outputs": [
    {
     "name": "stdout",
     "output_type": "stream",
     "text": [
      "                                                               Meo meo"
     ]
    }
   ],
   "source": [
    "function rightjustify(s)\n",
    "    space = 70 - length(s)\n",
    "    print(\"$(\" \" ^ space)$s\")\n",
    "end\n",
    "rightjustify(\"Meo meo\")"
   ]
  },
  {
   "cell_type": "markdown",
   "metadata": {},
   "source": [
    "#### Exercise 3-3\n",
    "1. Type this example into a script and test it.\n",
    "\n",
    "2. Modify dotwice so that it takes two arguments, a function object and a value, and calls the function twice, passing the value as an argument.\n",
    "\n",
    "3. Copy the definition of printtwice from earlier in this chapter to your script.\n",
    "\n",
    "4. Use the modified version of dotwice to call printtwice twice, passing \"spam\" as an argument.\n",
    "\n",
    "5. Define a new function called dofour that takes a function object and a value and calls the function four times, passing the value as a parameter. There should be only two statements in the body of this function, not four."
   ]
  },
  {
   "cell_type": "code",
   "execution_count": 9,
   "metadata": {},
   "outputs": [
    {
     "name": "stdout",
     "output_type": "stream",
     "text": [
      "spam\n",
      "spam\n"
     ]
    }
   ],
   "source": [
    "function dotwice(f)\n",
    "    f()\n",
    "    f()\n",
    "end\n",
    "\n",
    "function printspam()\n",
    "    println(\"spam\")\n",
    "end\n",
    "\n",
    "dotwice(printspam)"
   ]
  },
  {
   "cell_type": "code",
   "execution_count": 10,
   "metadata": {},
   "outputs": [
    {
     "name": "stdout",
     "output_type": "stream",
     "text": [
      "spam\n",
      "spam\n",
      "spam\n",
      "spam\n"
     ]
    }
   ],
   "source": [
    "function dotwice(f, v)\n",
    "    f(v)\n",
    "    f(v)\n",
    "end\n",
    "\n",
    "function printtwice(t)\n",
    "    println(t)\n",
    "    println(t)\n",
    "end\n",
    "\n",
    "dotwice(printtwice, \"spam\")"
   ]
  },
  {
   "cell_type": "code",
   "execution_count": 11,
   "metadata": {},
   "outputs": [
    {
     "name": "stdout",
     "output_type": "stream",
     "text": [
      "Ahihi\n",
      "Ahihi\n",
      "Ahihi\n",
      "Ahihi\n"
     ]
    }
   ],
   "source": [
    "function dofour(f, v)\n",
    "    dotwice(f, v)\n",
    "    dotwice(f, v)\n",
    "end\n",
    "\n",
    "dofour(println, \"Ahihi\")"
   ]
  },
  {
   "cell_type": "markdown",
   "metadata": {},
   "source": [
    "#### Exercise 3-4"
   ]
  },
  {
   "cell_type": "code",
   "execution_count": 12,
   "metadata": {},
   "outputs": [
    {
     "name": "stdout",
     "output_type": "stream",
     "text": [
      "+ - - - - + - - - - +\n",
      "|         |         |\n",
      "|         |         |\n",
      "|         |         |\n",
      "|         |         |\n",
      "+ - - - - + - - - - +\n",
      "|         |         |\n",
      "|         |         |\n",
      "|         |         |\n",
      "|         |         |\n",
      "+ - - - - + - - - - +\n"
     ]
    }
   ],
   "source": [
    "function print_border()\n",
    "    println(\"+ - - - - + - - - - +\")\n",
    "end\n",
    "\n",
    "function print_row()\n",
    "    for i in 1:4\n",
    "        println(\"|         |         |\")\n",
    "    end\n",
    "end\n",
    "\n",
    "function print_grid(n=2)\n",
    "    for i in 1:n\n",
    "        print_border()\n",
    "        print_row()\n",
    "    end\n",
    "    print_border()\n",
    "end\n",
    "\n",
    "print_grid()"
   ]
  },
  {
   "cell_type": "markdown",
   "metadata": {},
   "source": [
    "## 4. Case Study: Interface Design"
   ]
  },
  {
   "cell_type": "code",
   "execution_count": 13,
   "metadata": {},
   "outputs": [],
   "source": [
    "# import Pkg; Pkg.add(url=\"https://github.com/BenLauwens/ThinkJulia.jl\")"
   ]
  },
  {
   "cell_type": "code",
   "execution_count": 14,
   "metadata": {},
   "outputs": [],
   "source": [
    "# import Pkg; Pkg.add(\"Luxor\")"
   ]
  },
  {
   "cell_type": "code",
   "execution_count": 1,
   "metadata": {
    "scrolled": true
   },
   "outputs": [
    {
     "name": "stderr",
     "output_type": "stream",
     "text": [
      "┌ Info: Precompiling ThinkJulia [a7f2b756-c18b-4c7f-87da-faca9ac81b29]\n",
      "└ @ Base loading.jl:1342\n",
      "┌ Info: Skipping precompilation since __precompile__(false). Importing ThinkJulia [a7f2b756-c18b-4c7f-87da-faca9ac81b29].\n",
      "└ @ Base loading.jl:1047\n"
     ]
    }
   ],
   "source": [
    "using ThinkJulia, Luxor"
   ]
  },
  {
   "cell_type": "code",
   "execution_count": 2,
   "metadata": {},
   "outputs": [
    {
     "data": {
      "text/plain": [
       "Turtle(-100.0, -100.0, true, 0.0, (0.0, 0.0, 0.0))"
      ]
     },
     "execution_count": 2,
     "metadata": {},
     "output_type": "execute_result"
    }
   ],
   "source": [
    "🐢 = Turtle(-100, -100)"
   ]
  },
  {
   "cell_type": "code",
   "execution_count": 3,
   "metadata": {},
   "outputs": [
    {
     "data": {
      "image/png": "[encoded data removed]",
      "text/plain": [
       "\n",
       "    width:    300.0\n",
       "height:   300.0\n",
       "filename: \n",
       "type:     png\n",
       "    "
      ]
     },
     "metadata": {},
     "output_type": "display_data"
    }
   ],
   "source": [
    "@draw begin\n",
    "    for i in 1:4\n",
    "        forward(🐢, 200)\n",
    "        turn(🐢, 90)\n",
    "    end\n",
    "end 300 300"
   ]
  },
  {
   "cell_type": "markdown",
   "metadata": {},
   "source": [
    "#### Exercise 4-2\n",
    "Write a function called `square` that takes a parameter named `t`, which is a turtle. It should use the turtle to draw a square.\n",
    "#### Exercise 4-3\n",
    "Write a function call that passes `t` as an argument to `square`, and then run the macro again."
   ]
  },
  {
   "cell_type": "code",
   "execution_count": 30,
   "metadata": {},
   "outputs": [
    {
     "data": {
      "image/png": "[encoded data removed]",
      "text/plain": [
       "\n",
       "    width:    300.0\n",
       "height:   300.0\n",
       "filename: \n",
       "type:     png\n",
       "    "
      ]
     },
     "metadata": {},
     "output_type": "display_data"
    }
   ],
   "source": [
    "function square(t)\n",
    "    for i in 1:4\n",
    "        forward(t, 200)\n",
    "        turn(t, 90)\n",
    "    end\n",
    "end\n",
    "\n",
    "@draw begin\n",
    "    square(🐢)\n",
    "end 300 300"
   ]
  },
  {
   "cell_type": "markdown",
   "metadata": {},
   "source": [
    "#### Exercise 4-4\n",
    "Add another parameter, named `len`, to `square`. Modify the body so length of the sides is `len`, and then modify the function call to provide a second argument. Run the macro again. Test with a range of values for len."
   ]
  },
  {
   "cell_type": "code",
   "execution_count": 31,
   "metadata": {},
   "outputs": [
    {
     "data": {
      "image/png": "[encoded data removed]",
      "text/plain": [
       "\n",
       "    width:    400.0\n",
       "height:   400.0\n",
       "filename: \n",
       "type:     png\n",
       "    "
      ]
     },
     "metadata": {},
     "output_type": "display_data"
    }
   ],
   "source": [
    "🐢 = Turtle(-200, -200)\n",
    "function square(t, len)\n",
    "    for i in 1:4\n",
    "        forward(t, len)\n",
    "        turn(t, 90)\n",
    "    end\n",
    "end\n",
    "\n",
    "@draw begin\n",
    "    for i in 1:3\n",
    "        square(🐢, i * 100)\n",
    "    end\n",
    "end 400 400"
   ]
  },
  {
   "cell_type": "markdown",
   "metadata": {},
   "source": [
    "#### Exercise 4-5\n",
    "Make a copy of square and change the name to polygon. Add another parameter named n and modify the body so it draws an n-sided regular polygon."
   ]
  },
  {
   "cell_type": "code",
   "execution_count": 32,
   "metadata": {},
   "outputs": [
    {
     "data": {
      "image/png": "[encoded data removed]",
      "text/plain": [
       "\n",
       "    width:    300.0\n",
       "height:   250.0\n",
       "filename: \n",
       "type:     png\n",
       "    "
      ]
     },
     "metadata": {},
     "output_type": "display_data"
    }
   ],
   "source": [
    "🐢 = Turtle(-100, -100)\n",
    "\n",
    "function polygon(t, n, len)\n",
    "    angle = 360 / n\n",
    "    for i in 1:n\n",
    "        forward(t, len)\n",
    "        turn(t, angle)\n",
    "    end\n",
    "end\n",
    "\n",
    "@draw begin\n",
    "    polygon(🐢, 6, 100)\n",
    "end 300 250"
   ]
  },
  {
   "cell_type": "markdown",
   "metadata": {},
   "source": [
    "#### Exercise 4-6\n",
    "Write a function called `circle` that takes a turtle, `t`, and radius, `r`, as parameters and that draws an approximate circle by calling polygon with an appropriate length and number of sides. Test your function with a range of values of `r`."
   ]
  },
  {
   "cell_type": "code",
   "execution_count": 33,
   "metadata": {},
   "outputs": [
    {
     "data": {
      "image/png": "[encoded data removed]",
      "text/plain": [
       "\n",
       "    width:    300.0\n",
       "height:   300.0\n",
       "filename: \n",
       "type:     png\n",
       "    "
      ]
     },
     "metadata": {},
     "output_type": "display_data"
    }
   ],
   "source": [
    "🐢 = Turtle(0, -100)\n",
    "\n",
    "function ncircle(t, r)\n",
    "    circumference = 2 * π * r\n",
    "    n = trunc(circumference / 3) + 3\n",
    "    len = circumference / n\n",
    "    polygon(t, n, len)\n",
    "end\n",
    "\n",
    "@draw begin\n",
    "    ncircle(🐢, 100)\n",
    "end 300 300"
   ]
  },
  {
   "cell_type": "markdown",
   "metadata": {},
   "source": [
    "#### Exercise 4-7\n",
    "Make a more general version of circle called `arc` that takes an additional parameter `angle`, which determines what fraction of a circle to draw. `angle` is in units of degrees, so when `angle = 360`, `arc` should draw a complete circle."
   ]
  },
  {
   "cell_type": "code",
   "execution_count": 34,
   "metadata": {},
   "outputs": [
    {
     "data": {
      "image/png": "[encoded data removed]",
      "text/plain": [
       "\n",
       "    width:    300.0\n",
       "height:   300.0\n",
       "filename: \n",
       "type:     png\n",
       "    "
      ]
     },
     "metadata": {},
     "output_type": "display_data"
    }
   ],
   "source": [
    "function polyline(t, n, len, angle)\n",
    "    for i in 1:n\n",
    "        forward(t, len)\n",
    "        turn(t, -angle)\n",
    "    end\n",
    "end\n",
    "\n",
    "function polygon(t, n, len)\n",
    "    angle = 360 / n\n",
    "    polyline(t, n, len, angle)\n",
    "end\n",
    "\n",
    "function narc(t, r, angle)\n",
    "    arc_len = 2 * π * r * angle / 360\n",
    "    n = trunc(arc_len / 3) + 1\n",
    "    step_len = arc_len / n\n",
    "    step_angle = angle / n\n",
    "    polyline(t, n, step_len, step_angle)\n",
    "end\n",
    "\n",
    "function ncircle(t, r)\n",
    "    narc(t, r, 360)\n",
    "end\n",
    "\n",
    "🐢 = Turtle(0, 100)\n",
    "@draw begin\n",
    "    ncircle(🐢, 100)\n",
    "end 300 300"
   ]
  },
  {
   "cell_type": "markdown",
   "metadata": {},
   "source": [
    "#### Exercise 4-9\n",
    "Write an appropriately general set of functions that can draw flowers as in Turtle flowers.\n"
   ]
  },
  {
   "cell_type": "markdown",
   "metadata": {},
   "source": [
    "## 5. Conditionals and Recursion"
   ]
  },
  {
   "cell_type": "markdown",
   "metadata": {},
   "source": [
    "#### Exercise 5-2\n",
    "The function time returns the current Greenwich Mean Time in seconds since “the epoch”, which is an arbitrary time used as a reference point. On UNIX systems, the epoch is 1 January 1970.  \n",
    "Write a script that reads the current time and converts it to a time of day in hours, minutes, and seconds, plus the number of days since the epoch."
   ]
  },
  {
   "cell_type": "code",
   "execution_count": 23,
   "metadata": {},
   "outputs": [
    {
     "name": "stdout",
     "output_type": "stream",
     "text": [
      "18847 days since epoch. Time: 6:29:16\n"
     ]
    }
   ],
   "source": [
    "function parse_date(t)\n",
    "    days, r = divrem(round(t, digits=0), 86400)\n",
    "    hours, r1 = divrem(r, 3600)\n",
    "    minutes, seconds = divrem(r1, 60)\n",
    "    println(\"$(Int(days)) days since epoch. Time: $(Int(hours)):$(Int(minutes)):$(Int(seconds))\")\n",
    "end\n",
    "\n",
    "parse_date(time())"
   ]
  },
  {
   "cell_type": "markdown",
   "metadata": {},
   "source": [
    "#### Exercise 5-3\n",
    "Fermat’s Last Theorem says that there are no positive integers $a$, $b$, and $c$ such that\n",
    "\n",
    "$$a^n + b^n = c^n$$\n",
    "\n",
    "for any value of $n$ greater than 2.\n",
    "\n",
    "Write a function named checkfermat that takes four parameters - `a, b, c and n` - and checks to see if Fermat’s theorem holds. If `n` is greater than 2 and `a^n + b^n == c^n` the program should print, “Holy smokes, Fermat was wrong!” Otherwise the program should print, “No, that doesn’t work.”\n",
    "\n",
    "Write a function that prompts the user to input values for a, b, c and n, converts them to integers, and uses checkfermat to check whether they violate Fermat’s theorem."
   ]
  },
  {
   "cell_type": "code",
   "execution_count": 24,
   "metadata": {},
   "outputs": [],
   "source": [
    "function checkfermat(a, b, c, n)\n",
    "  a, b, c, n = UInt128(a), UInt128(b), UInt128(c), UInt128(n)\n",
    "  if (a ^ n + b ^ n) == c ^ n\n",
    "    return true\n",
    "  else\n",
    "    return false\n",
    "  end\n",
    "end\n",
    "\n",
    "for a in 2:100\n",
    "  for b in 2:100\n",
    "    for c in 2:100\n",
    "      for n in 2:20\n",
    "        if checkfermat(a, b, c, n) && n > 2\n",
    "          println(\"a: $a \\nb: $b \\nc: $c\\nn: $n\")\n",
    "          println(\"Holy smokes, Fermat was wrong!\")\n",
    "        end\n",
    "      end\n",
    "    end\n",
    "  end\n",
    "end"
   ]
  },
  {
   "cell_type": "code",
   "execution_count": 25,
   "metadata": {},
   "outputs": [
    {
     "name": "stdout",
     "output_type": "stream",
     "text": [
      "Yes\n"
     ]
    }
   ],
   "source": [
    "function istriangle(a, b, c)\n",
    "    if (a + b < c || b + c < a || a + c < b)\n",
    "        println(\"No\")\n",
    "    else\n",
    "        println(\"Yes\")\n",
    "    end\n",
    "end\n",
    "istriangle(2, 4, 5)"
   ]
  },
  {
   "cell_type": "markdown",
   "metadata": {},
   "source": [
    "#### Exercise 5-4\n",
    "If you are given three sticks, you may or may not be able to arrange them in a triangle. For example, if one of the sticks is 12 inches long and the other two are one inch long, you will not be able to get the short sticks to meet in the middle. For any three lengths, there is a simple test to see if it is possible to form a triangle:\n",
    "\n",
    "> If you are given three sticks, you may or may not be able to arrange them in a triangle. For example, if one of the sticks is 12 inches long and the other two are one inch long, you will not be able to get the short sticks to meet in the middle. For any three lengths, there is a simple test to see if it is possible to form a triangle:\n",
    "\n",
    "1. Write a function named `istriangle` that takes three integers as arguments, and that prints either “Yes” or “No”, depending on whether you can or cannot form a triangle from sticks with the given lengths.\n",
    "\n",
    "2. Write a function that prompts the user to input three stick lengths, converts them to integers, and uses `istriangle` to check whether sticks with the given lengths can form a triangle."
   ]
  },
  {
   "cell_type": "code",
   "execution_count": 30,
   "metadata": {},
   "outputs": [
    {
     "name": "stdout",
     "output_type": "stream",
     "text": [
      "Enter 3 length to check if they can form a triangle:stdin> 1\n",
      "stdin> 2\n",
      "stdin> 3\n",
      "a = \"1\"\n",
      "b = \"2\"\n",
      "c = \"3\"\n",
      "Yes\n"
     ]
    }
   ],
   "source": [
    "function check_triangle()\n",
    "    print(\"Enter 3 length to check if they can form a triangle:\")\n",
    "    a = readline()\n",
    "    b = readline()\n",
    "    c = readline()\n",
    "    @show a b c\n",
    "    a, b, c = parse(Int64, a), parse(Int64, b), parse(Int64, c)\n",
    "    istriangle(a, b, c)\n",
    "end\n",
    "check_triangle()"
   ]
  },
  {
   "cell_type": "markdown",
   "metadata": {},
   "source": [
    "#### Exercise 5-5\n",
    "1. What would happen if you called this function like this: recurse(-1, 0)?\n",
    "> StackOverflowError\n",
    "\n",
    "2. Write a docstring that explains everything someone would need to know in order to use this function (and nothing else)."
   ]
  },
  {
   "cell_type": "code",
   "execution_count": 25,
   "metadata": {},
   "outputs": [
    {
     "name": "stdout",
     "output_type": "stream",
     "text": [
      "12\n"
     ]
    }
   ],
   "source": [
    "\"\"\"\n",
    "s + ∑i, 0 ≤ i ≤ n, i ∈ ℕ \n",
    "\"\"\"\n",
    "function recurse(n, s)\n",
    "    if n == 0\n",
    "        println(s)\n",
    "    else\n",
    "        recurse(n-1, n+s)\n",
    "    end\n",
    "end\n",
    "\n",
    "recurse(4, 2)"
   ]
  },
  {
   "cell_type": "markdown",
   "metadata": {},
   "source": [
    "#### Exercise 5-6\n",
    "Read the following function and see if you can figure out what it does (see the examples in Case Study: Interface Design). Then run it and see if you got it right."
   ]
  },
  {
   "cell_type": "code",
   "execution_count": 28,
   "metadata": {},
   "outputs": [
    {
     "data": {
      "image/png": "[encoded data removed]",
      "text/plain": [
       "\n",
       "    width:    300.0\n",
       "height:   300.0\n",
       "filename: \n",
       "type:     png\n",
       "    "
      ]
     },
     "metadata": {},
     "output_type": "display_data"
    }
   ],
   "source": [
    "🐢 = Turtle(-100, 0)\n",
    "\n",
    "function ex_draw(t, length, n)\n",
    "    if n == 0\n",
    "        return\n",
    "    end\n",
    "    angle = 50\n",
    "    forward(t, length*n)\n",
    "    turn(t, -angle)\n",
    "    ex_draw(t, length, n-1)\n",
    "    turn(t, 2*angle)\n",
    "    ex_draw(t, length, n-1)\n",
    "    turn(t, -angle)\n",
    "    forward(t, -length*n)\n",
    "end\n",
    "\n",
    "@draw begin\n",
    "    ex_draw(🐢, 10, 6)\n",
    "end 300 300"
   ]
  },
  {
   "cell_type": "markdown",
   "metadata": {},
   "source": [
    "#### Exercise 5-7\n",
    "\n",
    "![](https://upload.wikimedia.org/wikipedia/commons/6/65/Kochsim.gif)\n",
    "\n",
    "The Koch curve is a fractal that looks something like [A Koch curve](). To draw a Koch curve with length x, all you have to do is\n",
    "\n",
    "1. Draw a Koch curve with length $\\frac{x}{3}$.\n",
    "\n",
    "2. Turn left 60 degrees.\n",
    "\n",
    "3. Draw a Koch curve with length $\\frac{x}{3}$.\n",
    "\n",
    "4. Turn right 120 degrees.\n",
    "\n",
    "5. Draw a Koch curve with length $\\frac{x}{3}$.\n",
    "\n",
    "6. Turn left 60 degrees.\n",
    "\n",
    "7. Draw a Koch curve with length $\\frac{x}{3}$.\n",
    "\n",
    "\n",
    "The exception is if x is less than 3: in that case, you can just draw a straight line with length x.\n",
    "\n",
    "1. Write a function called koch that takes a turtle and a length as parameters, and that uses the turtle to draw a Koch curve with the given length.\n",
    "2. Write a function called snowflake that draws three Koch curves to make the outline of a snowflake.\n",
    "3. The Koch curve can be generalized in several ways. See https://en.wikipedia.org/wiki/Koch_snowflake for examples and implement your favorite."
   ]
  },
  {
   "cell_type": "code",
   "execution_count": 47,
   "metadata": {},
   "outputs": [
    {
     "data": {
      "image/png": "[encoded data removed]",
      "text/plain": [
       "\n",
       "    width:    600.0\n",
       "height:   300.0\n",
       "filename: \n",
       "type:     png\n",
       "    "
      ]
     },
     "metadata": {},
     "output_type": "display_data"
    }
   ],
   "source": [
    "function koch(t, len)\n",
    "    if len < 3\n",
    "        forward(t, len)\n",
    "    else\n",
    "        angle = 60\n",
    "        n = len / 3\n",
    "        koch(t, n)\n",
    "        turn(t, -angle)\n",
    "        koch(t, n)\n",
    "        turn(t, 2 * angle)\n",
    "        koch(t, n)\n",
    "        turn(t, -angle)\n",
    "        koch(t, n)\n",
    "    end\n",
    "end\n",
    "\n",
    "🐢 = Turtle(-300, 100)\n",
    "\n",
    "@draw begin\n",
    "    koch(🐢, 600)\n",
    "end 600 300"
   ]
  },
  {
   "cell_type": "code",
   "execution_count": 61,
   "metadata": {},
   "outputs": [
    {
     "data": {
      "image/png": "[encoded data removed]",
      "text/plain": [
       "\n",
       "    width:    300.0\n",
       "height:   300.0\n",
       "filename: \n",
       "type:     png\n",
       "    "
      ]
     },
     "metadata": {},
     "output_type": "display_data"
    }
   ],
   "source": [
    "function snowflake(t, len)\n",
    "    for i in 1:3\n",
    "        kock(t, len)\n",
    "        turn(t, 120)\n",
    "    end\n",
    "end\n",
    "\n",
    "🐢 = Turtle(-100, -50)\n",
    "\n",
    "@draw begin\n",
    "    snowflake(🐢, 200)\n",
    "end 300 300"
   ]
  },
  {
   "cell_type": "markdown",
   "metadata": {},
   "source": [
    "## 6. Fruitful Functions\n",
    "\n",
    "#### Exercise 6-5\n",
    "The Ackermann function, $A(m,n)$, is defined:\n",
    "\n",
    "$$ A(m, n) = \n",
    "\\begin{cases}\n",
    "n + 1 &\\text{if m = 0} \\\\\n",
    "A(m - 1, 1) &\\text{if m > 0 and n = 0} \\\\\n",
    "A(m - 1, A(m, n-1)) &\\text{if m > 0 and n > 0}\n",
    "\\end{cases} $$\n",
    "\n",
    "See https://en.wikipedia.org/wiki/Ackermann_function. Write a function named `ack` that evaluates the Ackermann function. Use your function to evaluate `ack(3, 4)`, which should be 125. What happens for larger values of `m` and `n`?"
   ]
  },
  {
   "cell_type": "code",
   "execution_count": 46,
   "metadata": {},
   "outputs": [
    {
     "name": "stdout",
     "output_type": "stream",
     "text": [
      "  1.139171 seconds\n"
     ]
    },
    {
     "data": {
      "text/plain": [
       "32765"
      ]
     },
     "execution_count": 46,
     "metadata": {},
     "output_type": "execute_result"
    }
   ],
   "source": [
    "function ack(m, n)\n",
    "    if m == 0\n",
    "        n + 1\n",
    "    elseif m > 0 && n == 0\n",
    "        ack(m - 1, 1)\n",
    "    else\n",
    "        ack(m - 1, ack(m, n - 1))\n",
    "    end\n",
    "end\n",
    "\n",
    "@time ack(3, 12)"
   ]
  },
  {
   "cell_type": "markdown",
   "metadata": {},
   "source": [
    "#### Exercise 6-6\n",
    "A palindrome is a word that is spelled the same backward and forward, like “noon” and “redivider”. Recursively, a word is a palindrome if the first and last letters are the same and the middle is a palindrome.\n",
    "\n",
    "1. Test these functions out. What happens if you call middle with a string with two letters? One letter? What about the empty string, which is written \"\" and contains no letters?\n",
    "2. Write a function called `ispalindrome` that takes a string argument and returns `true` if it is a palindrome and `false` otherwise. Remember that you can use the built-in function length to check the length of a string."
   ]
  },
  {
   "cell_type": "code",
   "execution_count": 74,
   "metadata": {},
   "outputs": [
    {
     "data": {
      "text/plain": [
       "true"
      ]
     },
     "execution_count": 74,
     "metadata": {},
     "output_type": "execute_result"
    }
   ],
   "source": [
    "function ispalindrome(word)\n",
    "    if length(word) > 1\n",
    "        first = firstindex(word)\n",
    "        last = lastindex(word)\n",
    "        if word[first] != word[last]\n",
    "            return false\n",
    "        else\n",
    "            ispalindrome(word[nextind(word, first) : prevind(word, last)])\n",
    "        end\n",
    "    end\n",
    "    return true\n",
    "end\n",
    "\n",
    "ispalindrome(\"redivider\")"
   ]
  },
  {
   "cell_type": "markdown",
   "metadata": {},
   "source": [
    "#### Exercise 6-7\n",
    "A number, $a$, is a power of $b$ if it is divisible by $b$ and $\\frac{a}{b}$ is a power of $b$. Write a function called `ispower` that takes parameters `a` and `b` and returns `true` if `a` is a power of `b`."
   ]
  },
  {
   "cell_type": "code",
   "execution_count": 80,
   "metadata": {},
   "outputs": [
    {
     "data": {
      "text/plain": [
       "true"
      ]
     },
     "execution_count": 80,
     "metadata": {},
     "output_type": "execute_result"
    }
   ],
   "source": [
    "function ispower(a, b)\n",
    "    if a < b\n",
    "        return false\n",
    "    elseif a == b\n",
    "        return true\n",
    "    else\n",
    "        d, r = divrem(a, b)\n",
    "        if r == 0\n",
    "            return ispower(d, b)\n",
    "        else\n",
    "            return false\n",
    "        end\n",
    "    end\n",
    "end\n",
    "\n",
    "ispower(27, 3)"
   ]
  },
  {
   "cell_type": "markdown",
   "metadata": {},
   "source": [
    "#### Exercise 6-8\n",
    "The greatest common divisor (GCD) of $a$ and $b$ is the largest number that divides both of them with no remainder.\n",
    "\n",
    "One way to find the GCD of two numbers is based on the observation that if $r$ is the remainder when a is divided by $b$, then `gcd(a, b) = gcd(b, r)`. As a base case, we can use `gcd(a, 0) = a`.\n",
    "\n",
    "Write a function called `gcd` that takes parameters a and b and returns their greatest common divisor.\n",
    "\n",
    "Credit: This exercise is based on an example from Abelson and Sussman’s Structure and Interpretation of Computer Programs."
   ]
  },
  {
   "cell_type": "code",
   "execution_count": 85,
   "metadata": {},
   "outputs": [
    {
     "data": {
      "text/plain": [
       "4"
      ]
     },
     "execution_count": 85,
     "metadata": {},
     "output_type": "execute_result"
    }
   ],
   "source": [
    "function gcd(a, b)\n",
    "    if b == 0\n",
    "        return a\n",
    "    else\n",
    "        div, rem = divrem(a, b)\n",
    "        return gcd(b, rem)\n",
    "    end\n",
    "end\n",
    "\n",
    "gcd(8, 12)"
   ]
  },
  {
   "cell_type": "markdown",
   "metadata": {},
   "source": [
    "## 7. Iteration"
   ]
  },
  {
   "cell_type": "markdown",
   "metadata": {},
   "source": [
    "#### Exercise 7-2\n",
    "Copy the loop from Square Roots and encapsulate it in a function called mysqrt that takes a as a parameter, chooses a reasonable value of x, and returns an estimate of the square root of a.\n",
    "\n",
    "To test it, write a function named testsquareroot that prints a table like this:\n",
    "\n",
    "The first column is a number, a; the second column is the square root of a computed with mysqrt; the third column is the square root computed by sqrt; the fourth column is the absolute value of the difference between the two estimates."
   ]
  },
  {
   "cell_type": "code",
   "execution_count": 6,
   "metadata": {},
   "outputs": [
    {
     "data": {
      "text/plain": [
       "1.4142135623746899"
      ]
     },
     "execution_count": 6,
     "metadata": {},
     "output_type": "execute_result"
    }
   ],
   "source": [
    "function mysqrt(a, x)\n",
    "    ϵ = 0.0001\n",
    "    while true\n",
    "        y = (x + a/x) / 2\n",
    "        if abs(y - x) < ϵ\n",
    "            return y\n",
    "        end\n",
    "        x = y\n",
    "    end\n",
    "end\n",
    "\n",
    "mysqrt(2, 2)"
   ]
  },
  {
   "cell_type": "code",
   "execution_count": 31,
   "metadata": {},
   "outputs": [],
   "source": [
    "# import Pkg; Pkg.add(\"Formatting\")"
   ]
  },
  {
   "cell_type": "code",
   "execution_count": 12,
   "metadata": {},
   "outputs": [],
   "source": [
    "using Formatting"
   ]
  },
  {
   "cell_type": "code",
   "execution_count": 30,
   "metadata": {},
   "outputs": [
    {
     "name": "stdout",
     "output_type": "stream",
     "text": [
      "a\t mysqrt     \t sqrt       \t diff      \n",
      "-----------------------------------------------------\n",
      "1\t 1.000000 \t 1.000000 \t 0.0000000000\n",
      "2\t 1.414214 \t 1.414214 \t 0.0000000000\n",
      "3\t 1.732051 \t 1.732051 \t 0.0000000024\n",
      "4\t 2.000000 \t 2.000000 \t 0.0000000000\n",
      "5\t 2.236068 \t 2.236068 \t 0.0000000004\n",
      "6\t 2.449490 \t 2.449490 \t 0.0000000000\n",
      "7\t 2.645751 \t 2.645751 \t 0.0000000000\n",
      "8\t 2.828427 \t 2.828427 \t 0.0000000000\n",
      "9\t 3.000000 \t 3.000000 \t 0.0000000000\n"
     ]
    }
   ],
   "source": [
    "function testsquareroot()\n",
    "    printfmt(\"a\\t {:<10} \\t {:<10} \\t {:<10}\\n\", \"mysqrt\", \"sqrt\", \"diff\")\n",
    "    printfmt(\"-----------------------------------------------------\\n\")\n",
    "    for a in 1:9\n",
    "        m = mysqrt(a, a/2)\n",
    "        s = sqrt(a)\n",
    "        diff = abs(s - m)\n",
    "        printfmt(\"$a\\t {:.6f} \\t {:.6f} \\t {:.10f}\\n\", m, s, diff)\n",
    "    end\n",
    "end\n",
    "\n",
    "testsquareroot()"
   ]
  },
  {
   "cell_type": "markdown",
   "metadata": {},
   "source": [
    "#### Exercise 7-3\n",
    "\n",
    "The built-in function `Meta.parse` takes a string and transforms it into an expression. This expression can be evaluated in Julia with the function `Core.eval`.\n",
    "\n",
    "Write a function called `evalloop` that iteratively prompts the user, takes the resulting input and evaluates it using eval, and prints the result. It should continue until the user enters done, and then return the value of the last expression it evaluated."
   ]
  },
  {
   "cell_type": "code",
   "execution_count": 36,
   "metadata": {},
   "outputs": [
    {
     "name": "stdout",
     "output_type": "stream",
     "text": [
      "Enter your expression\n",
      "stdin> 1 + 2\n",
      "3\n",
      "stdin> 5 ^ 6\n",
      "15625\n",
      "stdin> done\n",
      "15625\n"
     ]
    }
   ],
   "source": [
    "function evalloop()\n",
    "    result = nothing\n",
    "    println(\"Enter your expression\")\n",
    "    while true\n",
    "        text = readline()\n",
    "        if text == \"done\"\n",
    "            println(result)\n",
    "            break\n",
    "        else\n",
    "            expr = Meta.parse(text)\n",
    "            result = eval(expr)\n",
    "            println(result)\n",
    "        end\n",
    "    end\n",
    "end\n",
    "\n",
    "evalloop()"
   ]
  },
  {
   "cell_type": "markdown",
   "metadata": {},
   "source": [
    "#### Exercise 7-4\n",
    "The mathematician Srinivasa Ramanujan found an infinite series that can be used to generate a numerical approximation of $\\frac{1}{\\pi}$:\n",
    "\n",
    "$$ \\frac{1}{\\pi} = \\frac{2\\sqrt{2}}{9801} \\sum_{k=0}^{\\infty} \\frac{(4k)!(1103 + 26390k)}{(k!)^4 396^{4k}} $$\n",
    "\n",
    "Write a function called `estimatepi` that uses this formula to compute and return an estimate of $\\pi$. It should use a while loop to compute terms of the summation until the last term is smaller than `1e-15` (which is Julia notation for $10^{−15}$). You can check the result by comparing it to $\\pi$."
   ]
  },
  {
   "cell_type": "code",
   "execution_count": 44,
   "metadata": {},
   "outputs": [
    {
     "name": "stdout",
     "output_type": "stream",
     "text": [
      "Estimated pi: 3.1415926535904917\n"
     ]
    }
   ],
   "source": [
    "function estimastepi()\n",
    "  temp = 1\n",
    "  s = 0\n",
    "  k = 0\n",
    "\n",
    "  while temp > 1e-15\n",
    "    temp = (factorial(4 * k) * (1103 + 26390k)) / (factorial(k) ^ 4 * 396 ^ (4 * k))\n",
    "    s += temp\n",
    "    k += 1\n",
    "  end\n",
    "\n",
    "  1 / ((2 * sqrt(2)) / 9801 * s)\n",
    "end\n",
    "\n",
    "println(\"Estimated pi: $(estimastepi())\")"
   ]
  },
  {
   "cell_type": "code",
   "execution_count": 47,
   "metadata": {},
   "outputs": [
    {
     "data": {
      "text/plain": [
       "π = 3.1415926535897..."
      ]
     },
     "execution_count": 47,
     "metadata": {},
     "output_type": "execute_result"
    }
   ],
   "source": [
    "π"
   ]
  },
  {
   "cell_type": "markdown",
   "metadata": {},
   "source": [
    "## 8. Strings\n"
   ]
  },
  {
   "cell_type": "markdown",
   "metadata": {},
   "source": [
    "#### Exercise 8-8\n",
    "There is a built-in function called count that is similar to the function in Looping and Counting. Read the documentation of this function and use it to count the number of a’s in \"banana\"."
   ]
  },
  {
   "cell_type": "code",
   "execution_count": 49,
   "metadata": {},
   "outputs": [
    {
     "data": {
      "text/plain": [
       "3"
      ]
     },
     "execution_count": 49,
     "metadata": {},
     "output_type": "execute_result"
    }
   ],
   "source": [
    "count(\"a\", \"banana\")"
   ]
  },
  {
   "cell_type": "markdown",
   "metadata": {},
   "source": [
    "#### Exercise 8-9\n",
    "A string slice can take a third index. The first specifies the start, the third the end and the second the “step size”; that is, the number of spaces between successive characters. A step size of 2 means every other character; 3 means every third, etc.\n",
    "A step size of -1 goes through the word backwards, so the slice `[end:-1:1]` generates a reversed string.\n",
    "\n",
    "Use this idiom to write a one-line version of `ispalindrome` from Exercise 6-6."
   ]
  },
  {
   "cell_type": "code",
   "execution_count": 4,
   "metadata": {},
   "outputs": [
    {
     "data": {
      "text/plain": [
       "true"
      ]
     },
     "execution_count": 4,
     "metadata": {},
     "output_type": "execute_result"
    }
   ],
   "source": [
    "function ispalindrome2(a)\n",
    "    return a[end:-1:1] == a\n",
    "end\n",
    "\n",
    "ispalindrome2(\"boob\")"
   ]
  },
  {
   "cell_type": "markdown",
   "metadata": {},
   "source": [
    "#### Exercise 8-11\n",
    "A Caesar cypher is a weak form of encryption that involves “rotating” each letter by a fixed number of places. To rotate a letter means to shift it through the alphabet, wrapping around to the beginning if necessary, so `’A’` rotated by 3 is `’D’` and `’Z’` rotated by 1 is `’A’`.\n",
    "\n",
    "To rotate a word, rotate each letter by the same amount. For example, `\"cheer\"` rotated by 7 is `\"jolly\"` and `\"melon\"` rotated by -10 is `\"cubed\"`. In the movie 2001: A Space Odyssey, the ship computer is called HAL, which is IBM rotated by -1.\n",
    "\n",
    "Write a function called `rotateword` that takes a string and an integer as parameters, and returns a new string that contains the letters from the original string rotated by the given amount."
   ]
  },
  {
   "cell_type": "code",
   "execution_count": 67,
   "metadata": {},
   "outputs": [
    {
     "data": {
      "text/plain": [
       "\"melon\""
      ]
     },
     "execution_count": 67,
     "metadata": {},
     "output_type": "execute_result"
    }
   ],
   "source": [
    "str = \"abcdefghijklmnopqrstuvwxyz\"\n",
    "\n",
    "function rotateword(word, by)\n",
    "    rotated = \"\"\n",
    "    for c in lowercase(word)\n",
    "        idx = findfirst(c, str)\n",
    "        i = (idx + by) % 26\n",
    "        if i <= 0\n",
    "            i = 26 + i\n",
    "        end\n",
    "        rotated = rotated * str[i]\n",
    "    end\n",
    "    rotated\n",
    "end\n",
    "\n",
    "rotateword(\"xpwzy\", -11)"
   ]
  },
  {
   "cell_type": "markdown",
   "metadata": {},
   "source": [
    "## 9. Case Study: Word Play"
   ]
  },
  {
   "cell_type": "markdown",
   "metadata": {},
   "source": [
    "#### Exercise 9-7\n",
    "This question is based on a Puzzler that was broadcast on the radio program Car Talk (https://www.cartalk.com/puzzler/browse):\n",
    "\n",
    "> Give me a word with three consecutive double letters. I’ll give you a couple of words that almost qualify, but don’t. For example, the word committee, c-o-m-m-i-t-t-e-e. It would be great except for the i that sneaks in there. Or Mississippi: M-i-s-s-i-s-s-i-p-p-i. If you could take out those i’s it would work. But there is a word that has three consecutive pairs of letters and to the best of my knowledge this may be the only word. Of course there are probably 500 more but I can only think of one. What is the word?\n",
    "\n",
    "Write a program to find it."
   ]
  },
  {
   "cell_type": "code",
   "execution_count": 11,
   "metadata": {},
   "outputs": [
    {
     "name": "stdout",
     "output_type": "stream",
     "text": [
      "bookkeeper\n",
      "bookkeepers\n",
      "bookkeeping\n",
      "bookkeepings\n"
     ]
    }
   ],
   "source": [
    "function is_consecutive_double_letter(word)\n",
    "    if length(word) < 6\n",
    "        return false\n",
    "    end\n",
    "    i = firstindex(word)\n",
    "    j = lastindex(word)\n",
    "    while i + 5 <= j\n",
    "        sub = word[i:i+5]\n",
    "        if sub[1:2:end] == sub[2:2:end]\n",
    "            return true\n",
    "        end\n",
    "        i += 1\n",
    "    end\n",
    "    return false\n",
    "end\n",
    "\n",
    "words = open(\"words.txt\")\n",
    "for w in eachline(words)\n",
    "    if is_consecutive_double_letter(w)\n",
    "        println(w)\n",
    "    end\n",
    "end\n",
    "close(words)"
   ]
  },
  {
   "cell_type": "markdown",
   "metadata": {},
   "source": [
    "#### Exercise 9-8\n",
    "Here’s another Car Talk Puzzler (https://www.cartalk.com/puzzler/browse):\n",
    "\n",
    "> I was driving on the highway the other day and I happened to notice my odometer. Like most odometers, it shows six digits, in whole miles only. So, if my car had 300000 miles, for example, I’d see 3-0-0-0-0-0.  \n",
    "Now, what I saw that day was very interesting. I noticed that the last 4 digits were palindromic; that is, they read the same forward as backward. For example, 5-4-4-5 is a palindrome, so my odometer could have read 3-1-5-4-4-5.  \n",
    "One mile later, the last 5 numbers were palindromic. For example, it could have read 3-6-5-4-5-6. One mile after that, the middle 4 out of 6 numbers were palindromic. And you ready for this? One mile later, all 6 were palindromic!  \n",
    "The question is, what was on the odometer when I first looked?\n",
    "\n",
    "Write a Julia program that tests all the six-digit numbers and prints any numbers that satisfy these requirements.\n",
    "\n"
   ]
  },
  {
   "cell_type": "code",
   "execution_count": 11,
   "metadata": {},
   "outputs": [
    {
     "data": {
      "text/plain": [
       "is_palindrome_number (generic function with 1 method)"
      ]
     },
     "execution_count": 11,
     "metadata": {},
     "output_type": "execute_result"
    }
   ],
   "source": [
    "function is_palindrome_number(n)\n",
    "    if ispalindrome2(string(n)[3:end])\n",
    "        n += 1\n",
    "        if ispalindrome2(string(n)[2:end])\n",
    "            n += 1\n",
    "            if ispalindrome2(string(n)[2:5])\n",
    "                n += 1\n",
    "                if ispalindrome2(string(n))\n",
    "                    return true\n",
    "                end\n",
    "            end\n",
    "        end\n",
    "    end\n",
    "    return false\n",
    "end"
   ]
  },
  {
   "cell_type": "code",
   "execution_count": 13,
   "metadata": {},
   "outputs": [
    {
     "name": "stdout",
     "output_type": "stream",
     "text": [
      "198888\n",
      "199999\n"
     ]
    }
   ],
   "source": [
    "for i in 100000:999999\n",
    "    if is_palindrome_number(i)\n",
    "        println(i)\n",
    "    end\n",
    "end"
   ]
  },
  {
   "cell_type": "markdown",
   "metadata": {},
   "source": [
    "#### Exercise 9-9\n",
    "Here’s another Car Talk Puzzler you can solve with a search (https://www.cartalk.com/puzzler/browse):\n",
    "\n",
    "> Recently I had a visit with my mom and we realized that the two digits that make up my age when reversed resulted in her age. For example, if she’s 73, I’m 37. We wondered how often this has happened over the years but we got sidetracked with other topics and we never came up with an answer.  \n",
    "When I got home I figured out that the digits of our ages have been reversible six times so far. I also figured out that if we’re lucky it would happen again in a few years, and if we’re really lucky it would happen one more time after that. In other words, it would have happened 8 times over all. So the question is, how old am I now?\n",
    "\n",
    "Write a Julia program that searches for solutions to this Puzzler."
   ]
  },
  {
   "cell_type": "code",
   "execution_count": 26,
   "metadata": {},
   "outputs": [
    {
     "name": "stdout",
     "output_type": "stream",
     "text": [
      "1       10\n",
      "2                20\n",
      "3                         30\n",
      "4                                  40\n",
      "5                                           50\n",
      "6                                                    60\n",
      "7                                                             70\n",
      "8                                                                      80\n",
      "9                                                                               90\n",
      "101\n",
      "1111\n",
      "12       21\n",
      "13                31\n",
      "14                         41\n",
      "15                                  51\n",
      "16                                           61\n",
      "17                                                    71\n",
      "18                                                             81\n",
      "19                                                                      91\n",
      "202\n",
      "2112\n",
      "2222\n",
      "23       32\n",
      "24                42\n",
      "25                         52\n",
      "26                                  62\n",
      "27                                           72\n",
      "28                                                    82\n",
      "29                                                             92\n",
      "303\n",
      "3113\n",
      "3223\n",
      "3333\n",
      "34       43\n",
      "35                53\n",
      "36                         63\n",
      "37                                  73\n",
      "38                                           83\n",
      "39                                                    93\n",
      "404\n",
      "4114\n",
      "4224\n",
      "4334\n",
      "4444\n",
      "45       54\n",
      "46                64\n",
      "47                         74\n",
      "48                                  84\n",
      "49                                           94\n",
      "505\n",
      "5115\n",
      "5225\n",
      "5335\n",
      "5445\n",
      "5555\n",
      "56       65\n",
      "57                75\n",
      "58                         85\n",
      "59                                  95\n",
      "606\n",
      "6116\n",
      "6226\n",
      "6336\n",
      "6446\n",
      "6556\n",
      "6666\n",
      "67       76\n",
      "68                86\n",
      "69                         96\n",
      "707\n",
      "7117\n",
      "7227\n",
      "7337\n",
      "7447\n",
      "7557\n",
      "7667\n",
      "7777\n",
      "78       87\n",
      "79                97\n",
      "808\n",
      "8118\n",
      "8228\n",
      "8338\n",
      "8448\n",
      "8558\n",
      "8668\n",
      "8778\n",
      "8888\n",
      "89       98\n",
      "909\n",
      "9119\n",
      "9229\n",
      "9339\n",
      "9449\n",
      "9559\n",
      "9669\n",
      "9779\n",
      "9889\n",
      "9999\n",
      "10010\n"
     ]
    }
   ],
   "source": [
    "function lucky_age()\n",
    "    for n in 1:100\n",
    "        last_digit = n % 10\n",
    "        reversed = last_digit * 10 + (n - last_digit) ÷ 10\n",
    "        println(n, lpad(reversed, reversed - n))\n",
    "        n += 1\n",
    "    end\n",
    "end\n",
    "\n",
    "lucky_age()"
   ]
  },
  {
   "cell_type": "code",
   "execution_count": 21,
   "metadata": {},
   "outputs": [
    {
     "name": "stdout",
     "output_type": "stream",
     "text": [
      "Easy to see that only 57-75 is the answer (the mother give birth to him at age 18)\n"
     ]
    }
   ],
   "source": [
    "println(\"Easy to see that only 57-75 is the answer (the mother give birth to him at age 18)\")"
   ]
  },
  {
   "cell_type": "markdown",
   "metadata": {},
   "source": [
    "## 10. Arrays"
   ]
  },
  {
   "cell_type": "markdown",
   "metadata": {},
   "source": [
    "#### Exercise 10-1\n",
    "Write a function called `nestedsum` that takes an array of arrays of integers and adds up the elements from all of the nested arrays. For example:"
   ]
  },
  {
   "cell_type": "code",
   "execution_count": 63,
   "metadata": {},
   "outputs": [
    {
     "data": {
      "text/plain": [
       "21"
      ]
     },
     "execution_count": 63,
     "metadata": {},
     "output_type": "execute_result"
    }
   ],
   "source": [
    "function nestedsum(a)\n",
    "    return sum(sum.(a))\n",
    "end\n",
    "\n",
    "t = [[1, 2], [3], [4, 5, 6]]\n",
    "nestedsum(t)"
   ]
  },
  {
   "cell_type": "markdown",
   "metadata": {},
   "source": [
    "#### Exercise 10-2\n",
    "Write a function called `cumulsum` that takes an array of numbers and returns the cumulative sum; that is, a new array where the ith element is the sum of the first $i$ elements from the original array."
   ]
  },
  {
   "cell_type": "code",
   "execution_count": 66,
   "metadata": {},
   "outputs": [
    {
     "name": "stdout",
     "output_type": "stream",
     "text": [
      "Any[1, 3, 6]"
     ]
    }
   ],
   "source": [
    "function cumulsum(a)\n",
    "    c = 0\n",
    "    res = []\n",
    "    for i in a\n",
    "        c += i\n",
    "        push!(res, c)\n",
    "    end\n",
    "    res\n",
    "end\n",
    "\n",
    "t = [1, 2, 3]\n",
    "print(cumulsum(t))"
   ]
  },
  {
   "cell_type": "markdown",
   "metadata": {},
   "source": [
    "#### Exercise 10-3\n",
    "Write a function called `interior` that takes an array and returns a new array that contains all but the first and last elements. "
   ]
  },
  {
   "cell_type": "code",
   "execution_count": 68,
   "metadata": {},
   "outputs": [
    {
     "name": "stdout",
     "output_type": "stream",
     "text": [
      "[2, 3]"
     ]
    }
   ],
   "source": [
    "function interior(a)\n",
    "    return a[2:end-1]\n",
    "end\n",
    "\n",
    "t = [1, 2, 3, 4]\n",
    "print(interior(t))"
   ]
  },
  {
   "cell_type": "markdown",
   "metadata": {},
   "source": [
    "#### Exercise 10-4\n",
    "Write a function called `interior!` that takes an array, modifies it by removing the first and last elements, and returns nothing."
   ]
  },
  {
   "cell_type": "code",
   "execution_count": 69,
   "metadata": {},
   "outputs": [
    {
     "name": "stdout",
     "output_type": "stream",
     "text": [
      "[2, 3]"
     ]
    }
   ],
   "source": [
    "function interior!(a)\n",
    "    deleteat!(a, 1)\n",
    "    deleteat!(a, length(a))\n",
    "end\n",
    "\n",
    "t = [1, 2, 3, 4]\n",
    "interior!(t)\n",
    "print(t)"
   ]
  },
  {
   "cell_type": "markdown",
   "metadata": {},
   "source": [
    "#### Exercise 10-5\n",
    "Write a function called `issort` that takes an array as a parameter and returns true if the array is sorted in ascending order and false otherwise."
   ]
  },
  {
   "cell_type": "code",
   "execution_count": 8,
   "metadata": {},
   "outputs": [
    {
     "name": "stdout",
     "output_type": "stream",
     "text": [
      "true\n",
      "false\n"
     ]
    }
   ],
   "source": [
    "function issort(a)\n",
    "    i = firstindex(a)\n",
    "    while i < length(a)\n",
    "        j = nextind(a, i)\n",
    "        if a[i] > a[j]\n",
    "            return false\n",
    "        end\n",
    "        i = j\n",
    "    end\n",
    "    true\n",
    "end\n",
    "\n",
    "println(issort([1, 2, 3, 4, 5]))\n",
    "println(issort(['b', 'a']))"
   ]
  },
  {
   "cell_type": "markdown",
   "metadata": {},
   "source": [
    "#### Exercise 10-6\n",
    "Two words are anagrams if you can rearrange the letters from one to spell the other. Write a function called `isanagram` that takes two strings and returns true if they are anagrams."
   ]
  },
  {
   "cell_type": "code",
   "execution_count": 13,
   "metadata": {},
   "outputs": [
    {
     "data": {
      "text/plain": [
       "isanagram (generic function with 1 method)"
      ]
     },
     "execution_count": 13,
     "metadata": {},
     "output_type": "execute_result"
    }
   ],
   "source": [
    "function isanagram(s1, s2)\n",
    "    a1 = collect(s1)\n",
    "    a2 = collect(s2)\n",
    "    for i in a1\n",
    "        if i ∉ a2\n",
    "            return false\n",
    "        end\n",
    "    end\n",
    "    true\n",
    "end"
   ]
  },
  {
   "cell_type": "code",
   "execution_count": 14,
   "metadata": {},
   "outputs": [
    {
     "data": {
      "text/plain": [
       "true"
      ]
     },
     "execution_count": 14,
     "metadata": {},
     "output_type": "execute_result"
    }
   ],
   "source": [
    "isanagram(\"hello\", \"eholl\")"
   ]
  },
  {
   "cell_type": "markdown",
   "metadata": {},
   "source": [
    "#### Exercise 10-7\n",
    "Write a function called `hasduplicates` that takes an array and returns true if there is any element that appears more than once. It should not modify the original array."
   ]
  },
  {
   "cell_type": "code",
   "execution_count": 15,
   "metadata": {},
   "outputs": [
    {
     "data": {
      "text/plain": [
       "false"
      ]
     },
     "execution_count": 15,
     "metadata": {},
     "output_type": "execute_result"
    }
   ],
   "source": [
    "function hasduplicates(a)\n",
    "    temp = []\n",
    "    for i in a\n",
    "        if i ∉ temp\n",
    "            push!(temp, i)\n",
    "        else\n",
    "            return true\n",
    "        end\n",
    "    end\n",
    "    return false\n",
    "end\n",
    "\n",
    "hasduplicates([1, 2, 3])"
   ]
  },
  {
   "cell_type": "markdown",
   "metadata": {},
   "source": [
    "#### Exercise 10-8\n",
    "This exercise pertains to the so-called Birthday Paradox, which you can read about at https://en.wikipedia.org/wiki/Birthday_paradox.\n",
    "\n",
    "If there are 23 students in your class, what are the chances that two of you have the same birthday? You can estimate this probability by generating random samples of 23 birthdays and checking for matches."
   ]
  },
  {
   "cell_type": "code",
   "execution_count": 20,
   "metadata": {},
   "outputs": [
    {
     "data": {
      "text/plain": [
       "0.497"
      ]
     },
     "execution_count": 20,
     "metadata": {},
     "output_type": "execute_result"
    }
   ],
   "source": [
    "function birthday_paradox(n=23)\n",
    "    duplicated = []\n",
    "    for i in 1:1000\n",
    "        students = []\n",
    "        for i in 1:n\n",
    "            push!(students, rand(1:365))\n",
    "        end\n",
    "        push!(duplicated, hasduplicates(students))\n",
    "    end\n",
    "    sum(duplicated) / length(duplicated)\n",
    "end\n",
    "\n",
    "birthday_paradox()"
   ]
  },
  {
   "cell_type": "markdown",
   "metadata": {},
   "source": [
    "#### Exercise 10-9\n",
    "Write a function that reads the file `words.txt` and builds an array with one element per word. Write two versions of this function, one using `push!` and the other using the idiom `t = [t..., x]`. Which one takes longer to run? Why?"
   ]
  },
  {
   "cell_type": "code",
   "execution_count": 2,
   "metadata": {},
   "outputs": [
    {
     "data": {
      "text/plain": [
       "read2 (generic function with 1 method)"
      ]
     },
     "execution_count": 2,
     "metadata": {},
     "output_type": "execute_result"
    }
   ],
   "source": [
    "function read1(file)\n",
    "    f = open(file)\n",
    "    res = []\n",
    "    for i in eachline(f)\n",
    "        push!(res, i)\n",
    "    end\n",
    "    close(f)\n",
    "    res\n",
    "end\n",
    "\n",
    "function read2(file)\n",
    "    f = open(file)\n",
    "    res = []\n",
    "    for i in eachline(f)\n",
    "        res = [res..., i]\n",
    "    end\n",
    "    close(f)\n",
    "    res\n",
    "end"
   ]
  },
  {
   "cell_type": "code",
   "execution_count": 3,
   "metadata": {
    "scrolled": true
   },
   "outputs": [
    {
     "name": "stdout",
     "output_type": "stream",
     "text": [
      "  0.011453 seconds (113.87 k allocations: 5.487 MiB)\n"
     ]
    }
   ],
   "source": [
    "@time read1(\"words.txt\");"
   ]
  },
  {
   "cell_type": "code",
   "execution_count": 4,
   "metadata": {},
   "outputs": [
    {
     "name": "stdout",
     "output_type": "stream",
     "text": [
      " 69.167850 seconds (566.53 k allocations: 96.531 GiB, 2.67% gc time)\n"
     ]
    }
   ],
   "source": [
    "@time read2(\"words.txt\");"
   ]
  },
  {
   "cell_type": "markdown",
   "metadata": {},
   "source": [
    "Use `push!` is much faster, because it using the old array, not clone to new array each loop like `t = [t..., x]`"
   ]
  },
  {
   "cell_type": "markdown",
   "metadata": {},
   "source": [
    "#### Exercise 10-10\n",
    "To check whether a word is in the word array, you could use the `∈` operator, but it would be slow because it searches through the words in order.\n",
    "\n",
    "Because the words are in alphabetical order, we can speed things up with a bisection search (also known as binary search), which is similar to what you do when you look a word up in the dictionary. You start in the middle and check to see whether the word you are looking for comes before the word in the middle of the array. If so, you search the first half of the array the same way. Otherwise you search the second half.\n",
    "\n",
    "Either way, you cut the remaining search space in half. If the word array has 113,809 words, it will take about 17 steps to find the word or conclude that it’s not there.\n",
    "\n",
    "Write a function called `inbisect` that takes a sorted array and a target value and returns true if the word is in the array and false if it’s not."
   ]
  },
  {
   "cell_type": "code",
   "execution_count": 34,
   "metadata": {},
   "outputs": [
    {
     "name": "stdout",
     "output_type": "stream",
     "text": [
      "true\n",
      "  0.009557 seconds (5.30 k allocations: 291.819 KiB, 99.12% compilation time)\n",
      "false\n"
     ]
    }
   ],
   "source": [
    "function inbisect(arr, word, l, r)\n",
    "    if r >= l\n",
    "        mid = l + (r - l) ÷ 2\n",
    "        if arr[mid] == word\n",
    "            return true\n",
    "        elseif arr[mid] > word\n",
    "            return inbisect(arr, word, l, mid-1)\n",
    "        else\n",
    "            return inbisect(arr, word, mid + 1, r)\n",
    "        end\n",
    "    else\n",
    "        return false\n",
    "    end\n",
    "end\n",
    "\n",
    "arr = [\"dog\", \"cat\", \"duck\", \"chicken\", \"lion\", \"tiger\"]\n",
    "\n",
    "@time println(inbisect(arr, \"tiger\", 1, length(arr)))\n",
    "println(inbisect(arr, \"whale\", 1, length(arr)))"
   ]
  },
  {
   "cell_type": "markdown",
   "metadata": {},
   "source": [
    "#### Exercise 10-11\n",
    "Two words are a “reverse pair” if each is the reverse of the other. Write a program `reversepairs` that finds all the reverse pairs in the word array."
   ]
  },
  {
   "cell_type": "code",
   "execution_count": 14,
   "metadata": {
    "scrolled": false
   },
   "outputs": [
    {
     "data": {
      "text/plain": [
       "488-element Vector{Any}:\n",
       " [\"aa\", \"aa\"]\n",
       " [\"aba\", \"aba\"]\n",
       " [\"abut\", \"tuba\"]\n",
       " [\"ad\", \"da\"]\n",
       " [\"ados\", \"soda\"]\n",
       " [\"aga\", \"aga\"]\n",
       " [\"agar\", \"raga\"]\n",
       " [\"agas\", \"saga\"]\n",
       " [\"agenes\", \"senega\"]\n",
       " [\"ah\", \"ha\"]\n",
       " [\"aha\", \"aha\"]\n",
       " [\"aider\", \"redia\"]\n",
       " [\"airts\", \"stria\"]\n",
       " ⋮\n",
       " [\"tit\", \"tit\"]\n",
       " [\"toot\", \"toot\"]\n",
       " [\"tort\", \"trot\"]\n",
       " [\"tot\", \"tot\"]\n",
       " [\"tow\", \"wot\"]\n",
       " [\"trow\", \"wort\"]\n",
       " [\"tut\", \"tut\"]\n",
       " [\"vav\", \"vav\"]\n",
       " [\"waw\", \"waw\"]\n",
       " [\"way\", \"yaw\"]\n",
       " [\"wow\", \"wow\"]\n",
       " [\"yay\", \"yay\"]"
      ]
     },
     "execution_count": 14,
     "metadata": {},
     "output_type": "execute_result"
    }
   ],
   "source": [
    "function reversepairs()\n",
    "    bag = []\n",
    "    open(\"words.txt\") do file\n",
    "        words = []\n",
    "        for i in eachline(file)\n",
    "            push!(words, i)\n",
    "        end\n",
    "        wl = length(words)\n",
    "        for w in words\n",
    "            rev = reverse(w)\n",
    "            if inbisect(words, rev, 1, wl)\n",
    "                p = [rev, w]\n",
    "                if p ∉ bag\n",
    "                    push!(bag, [w, rev])\n",
    "                end\n",
    "            end\n",
    "        end\n",
    "    end\n",
    "\n",
    "    bag\n",
    "end\n",
    "\n",
    "reversepairs()"
   ]
  },
  {
   "cell_type": "markdown",
   "metadata": {},
   "source": [
    "#### Exercise 10-12\n",
    "Two words “interlock” if taking alternating letters from each forms a new word. For example, “shoe” and “cold” interlock to form “schooled”.\n",
    "\n",
    "Credit: This exercise is inspired by an example at http://puzzlers.org.\n",
    "\n",
    "1. Write a program that finds all pairs of words that interlock.\n",
    "\n",
    "> Don’t enumerate all pairs!\n",
    "\n",
    "2. Can you find any words that are three-way interlocked; that is, every third letter forms a word, starting from the first, second or third?"
   ]
  },
  {
   "cell_type": "code",
   "execution_count": 14,
   "metadata": {},
   "outputs": [
    {
     "data": {
      "text/plain": [
       "(\"ade\", \"ha\")"
      ]
     },
     "execution_count": 14,
     "metadata": {},
     "output_type": "execute_result"
    }
   ],
   "source": [
    "w = \"ahdae\"\n",
    "a, b = w[1:2:end], w[2:2:end]"
   ]
  },
  {
   "cell_type": "code",
   "execution_count": 28,
   "metadata": {
    "scrolled": false
   },
   "outputs": [
    {
     "data": {
      "text/plain": [
       "1254-element Vector{Any}:\n",
       " (\"ah\", \"as\", \"aahs\")\n",
       " (\"aby\", \"be\", \"abbey\")\n",
       " (\"aid\", \"be\", \"abied\")\n",
       " (\"ais\", \"be\", \"abies\")\n",
       " (\"ar\", \"bi\", \"abri\")\n",
       " (\"ars\", \"bi\", \"abris\")\n",
       " (\"ay\", \"be\", \"abye\")\n",
       " (\"ays\", \"be\", \"abyes\")\n",
       " (\"ars\", \"cos\", \"across\")\n",
       " (\"add\", \"de\", \"added\")\n",
       " (\"ais\", \"do\", \"adios\")\n",
       " (\"anus\", \"don\", \"adnouns\")\n",
       " (\"arf\", \"dit\", \"adrift\")\n",
       " ⋮\n",
       " (\"wud\", \"ons\", \"wounds\")\n",
       " (\"wet\", \"rah\", \"wreath\")\n",
       " (\"wets\", \"rah\", \"wreaths\")\n",
       " (\"wis\", \"re\", \"wries\")\n",
       " (\"wis\", \"ret\", \"wriest\")\n",
       " (\"yid\", \"ar\", \"yaird\")\n",
       " (\"yid\", \"ars\", \"yairds\")\n",
       " (\"ya\", \"eh\", \"yeah\")\n",
       " (\"ya\", \"en\", \"yean\")\n",
       " (\"ya\", \"er\", \"year\")\n",
       " (\"ya\", \"es\", \"yeas\")\n",
       " (\"ya\", \"un\", \"yuan\")"
      ]
     },
     "execution_count": 28,
     "metadata": {},
     "output_type": "execute_result"
    }
   ],
   "source": [
    "function interlock()\n",
    "    words = []\n",
    "    open(\"words.txt\") do file\n",
    "        for i in eachline(file)\n",
    "            push!(words, i)\n",
    "        end\n",
    "    end\n",
    "    len = length(words)\n",
    "    res = []\n",
    "    for w in words\n",
    "        even, odd = w[1:2:end], w[2:2:end]\n",
    "        if length(even) >= 2 && length(odd) >= 2\n",
    "            if inbisect(words, even, 1, len) && inbisect(words, odd, 1, len)\n",
    "                # println(\"$even + $odd = $(even * odd)\")\n",
    "                push!(res, (even, odd, w))\n",
    "            end\n",
    "        end\n",
    "    end\n",
    "    res\n",
    "    # print(words[findmax(length.(words))[2]])\n",
    "end\n",
    "\n",
    "interlock()\n"
   ]
  },
  {
   "cell_type": "markdown",
   "metadata": {},
   "source": [
    "## 11. Dictionaries"
   ]
  },
  {
   "cell_type": "markdown",
   "metadata": {},
   "source": [
    "#### Exercise 11-2\n",
    "Write a function that reads the words in `words.txt` and stores them as keys in a dictionary. It doesn’t matter what the values are. Then you can use the ∈ operator as a fast way to check whether a string is in the dictionary.\n",
    "\n",
    "If you did Exercise 10-10, you can compare the speed of this implementation with the array ∈ operator and the bisection search."
   ]
  },
  {
   "cell_type": "code",
   "execution_count": 33,
   "metadata": {
    "scrolled": false
   },
   "outputs": [
    {
     "name": "stdout",
     "output_type": "stream",
     "text": [
      "  0.000001 seconds\n"
     ]
    },
    {
     "data": {
      "text/plain": [
       "true"
      ]
     },
     "execution_count": 33,
     "metadata": {},
     "output_type": "execute_result"
    }
   ],
   "source": [
    "function words_to_dict(f)\n",
    "    d = Dict()\n",
    "    for w in eachline(f)\n",
    "        d[w] = nothing\n",
    "    end\n",
    "    d\n",
    "end\n",
    "\n",
    "open(\"words.txt\") do f\n",
    "    words = words_to_dict(f)\n",
    "    @time \"hello\" ∈ keys(words)\n",
    "end"
   ]
  },
  {
   "cell_type": "markdown",
   "metadata": {},
   "source": [
    "#### Exercise 11-4\n",
    "Memoize the Ackermann function from Exercise 6-5 and see if memoization makes it possible to evaluate the function with bigger arguments."
   ]
  },
  {
   "cell_type": "code",
   "execution_count": 45,
   "metadata": {},
   "outputs": [
    {
     "name": "stdout",
     "output_type": "stream",
     "text": [
      "  0.049768 seconds (458.58 k allocations: 26.419 MiB, 14.23% gc time)\n"
     ]
    },
    {
     "data": {
      "text/plain": [
       "32765"
      ]
     },
     "execution_count": 45,
     "metadata": {},
     "output_type": "execute_result"
    }
   ],
   "source": [
    "mem = Dict()\n",
    "\n",
    "function ack(m, n)\n",
    "    if m == 0\n",
    "        n + 1\n",
    "    elseif m > 0 && n == 0\n",
    "        if [m - 1, 1] ∉ keys(mem)\n",
    "            mem[[m - 1, 1]] = ack(m - 1, 1)\n",
    "        else\n",
    "            mem[[m - 1, 1]]\n",
    "        end\n",
    "    else\n",
    "        if [m, n - 1] ∉ keys(mem)\n",
    "            mem[[m, n - 1]] = ack(m, n - 1)\n",
    "        end\n",
    "        ack(m - 1, mem[[m, n - 1]])\n",
    "    end\n",
    "end\n",
    "\n",
    "@time ack(3, 12)"
   ]
  },
  {
   "cell_type": "markdown",
   "metadata": {},
   "source": [
    "#### Exercise 11-5\n",
    "If you did Exercise 10-7, you already have a function named `hasduplicates` that takes an array as a parameter and returns `true if` there is any object that appears more than once in the array.\n",
    "\n",
    "Use a dictionary to write a faster, simpler version of hasduplicates."
   ]
  },
  {
   "cell_type": "code",
   "execution_count": 53,
   "metadata": {},
   "outputs": [
    {
     "name": "stdout",
     "output_type": "stream",
     "text": [
      "false\n",
      "  0.000064 seconds (35 allocations: 1.344 KiB)\n",
      "true\n",
      "  0.000160 seconds (146 allocations: 10.516 KiB)\n"
     ]
    }
   ],
   "source": [
    "function hasduplicates2(a)\n",
    "    d = Dict()\n",
    "    for i in a\n",
    "        if i ∉ keys(d)\n",
    "            d[i] = 1\n",
    "        else\n",
    "            return true\n",
    "        end\n",
    "    end\n",
    "    return false\n",
    "end\n",
    "\n",
    "@time println(hasduplicates2([1, 2, 3, 4, 5]))\n",
    "@time println(hasduplicates2([1, 2, 1, 4, 5]))"
   ]
  },
  {
   "cell_type": "markdown",
   "metadata": {},
   "source": [
    "#### Exercise 11-6\n",
    "Two words are “rotate pairs” if you can rotate one of them and get the other (see rotateword in Exercise 8-11).\n",
    "\n",
    "Write a program that reads a word array and finds all the rotate pairs."
   ]
  },
  {
   "cell_type": "code",
   "execution_count": 70,
   "metadata": {},
   "outputs": [
    {
     "data": {
      "text/plain": [
       "Dict{Any, Any} with 2 entries:\n",
       "  \"rjqts\" => \"melon\"\n",
       "  \"jyuwb\" => \"peach\""
      ]
     },
     "execution_count": 70,
     "metadata": {},
     "output_type": "execute_result"
    }
   ],
   "source": [
    "function rotate_pair(a)\n",
    "    mem = Dict()\n",
    "    res = Dict()\n",
    "    for word in a\n",
    "        if word ∉ keys(mem)\n",
    "            for i in 1:25\n",
    "                mem[rotateword(word, i)] = i\n",
    "            end\n",
    "        else\n",
    "            res[word] = rotateword(word, -mem[word])\n",
    "        end\n",
    "    end\n",
    "    res\n",
    "end\n",
    "       \n",
    "rotate_pair([\"melon\", \"lemon\", \"peach\", rotateword(\"melon\", 5), rotateword(\"peach\", -6)])"
   ]
  },
  {
   "cell_type": "markdown",
   "metadata": {},
   "source": [
    "#### Exercise 11-7\n",
    "Here’s another Puzzler from Car Talk (https://www.cartalk.com/puzzler/browse):\n",
    "\n",
    "> This was sent in by a fellow named Dan O’Leary. He came upon a common one-syllable, five-letter word recently that has the following unique property. When you remove the first letter, the remaining letters form a homophone of the original word, that is a word that sounds exactly the same. Replace the first letter, that is, put it back and remove the second letter and the result is yet another homophone of the original word. And the question is, what’s the word?    \n",
    "Now I’m going to give you an example that doesn’t work. Let’s look at the five-letter word, ‘wrack.’ W-R-A-C-K, you know like to ‘wrack with pain.’ If I remove the first letter, I am left with a four-letter word, ’R-A-C-K.’ As in, ‘Holy cow, did you see the rack on that buck! It must have been a nine-pointer!’ It’s a perfect homophone. If you put the ‘w’ back, and remove the ‘r,’ instead, you’re left with the word, ‘wack,’ which is a real word, it’s just not a homophone of the other two words.\n",
    "\n",
    "But there is, however, at least one word that Dan and we know of, which will yield two homophones if you remove either of the first two letters to make two, new four-letter words. The question is, what’s the word?\n",
    "\n",
    "> You can use the dictionary from Exercise 11-2 to check whether a string is in the word array.\n",
    "\n",
    "TIP\n",
    "To check whether two words are homophones, you can use the CMU Pronouncing Dictionary. You can download it from http://www.speech.cs.cmu.edu/cgi-bin/cmudict.\n",
    "\n",
    "Write a program that lists all the words that solve the Puzzler."
   ]
  },
  {
   "cell_type": "markdown",
   "metadata": {},
   "source": [
    "## 12. Tuples"
   ]
  },
  {
   "cell_type": "markdown",
   "metadata": {},
   "source": [
    "#### Exercise 12-2\n",
    "Write a function called `mostfrequent` that takes a string and prints the letters in decreasing order of frequency. Find text samples from several different languages and see how letter frequency varies between languages. Compare your results with the tables at https://en.wikipedia.org/wiki/Letter_frequencies."
   ]
  },
  {
   "cell_type": "code",
   "execution_count": 12,
   "metadata": {},
   "outputs": [
    {
     "name": "stdout",
     "output_type": "stream",
     "text": [
      "['a', 'u', 's', 'r', 'q', 'd']"
     ]
    }
   ],
   "source": [
    "function mostfrequent(s)\n",
    "    s = lowercase(s)\n",
    "    d = Dict()\n",
    "    for c in s\n",
    "        d[c] = get(d, c, 0) + 1\n",
    "    end\n",
    "    rev = sort([(freq, char) for (char, freq) in d], rev=true)\n",
    "    [char for (freq, char) in rev]\n",
    "end\n",
    "\n",
    "s = \"squadra\"\n",
    "print(mostfrequent(s))"
   ]
  },
  {
   "cell_type": "markdown",
   "metadata": {},
   "source": [
    "#### Exercise 12-3\n",
    "More anagrams!\n",
    "\n",
    "1. Write a program that reads a word list from a file (see Reading Word Lists) and prints all the sets of words that are anagrams.  \n",
    "\n",
    "2. Modify the previous program so that it prints the longest array of anagrams first, followed by the second longest, and so on.\n",
    "\n",
    "3. In Scrabble a “bingo” is when you play all seven tiles in your rack, along with a letter on the board, to form an eight-letter word. What collection of 8 letters forms the most possible bingos?"
   ]
  },
  {
   "cell_type": "code",
   "execution_count": 14,
   "metadata": {},
   "outputs": [
    {
     "data": {
      "text/plain": [
       "letters_map (generic function with 1 method)"
      ]
     },
     "execution_count": 14,
     "metadata": {},
     "output_type": "execute_result"
    }
   ],
   "source": [
    "function letters_map(words)\n",
    "    d = Dict()\n",
    "    for w in words\n",
    "        letters = tuple(sort(collect(w))...)\n",
    "        if letters ∉ keys(d)\n",
    "            d[letters] = [w]\n",
    "        else\n",
    "            push!(d[letters], w)\n",
    "        end\n",
    "    end\n",
    "    d\n",
    "end"
   ]
  },
  {
   "cell_type": "code",
   "execution_count": 29,
   "metadata": {},
   "outputs": [
    {
     "data": {
      "text/plain": [
       "10157-element Vector{Any}:\n",
       " [\"apers\", \"asper\", \"pares\", \"parse\", \"pears\", \"prase\", \"presa\", \"rapes\", \"reaps\", \"spare\", \"spear\"]\n",
       " [\"alerts\", \"alters\", \"artels\", \"estral\", \"laster\", \"ratels\", \"salter\", \"slater\", \"staler\", \"stelar\", \"talers\"]\n",
       " [\"least\", \"setal\", \"slate\", \"stale\", \"steal\", \"stela\", \"taels\", \"tales\", \"teals\", \"tesla\"]\n",
       " [\"estrin\", \"inerts\", \"insert\", \"inters\", \"niters\", \"nitres\", \"sinter\", \"triens\", \"trines\"]\n",
       " [\"capers\", \"crapes\", \"escarp\", \"pacers\", \"parsec\", \"recaps\", \"scrape\", \"secpar\", \"spacer\"]\n",
       " [\"anestri\", \"nastier\", \"ratines\", \"retains\", \"retinas\", \"retsina\", \"stainer\", \"stearin\"]\n",
       " [\"peris\", \"piers\", \"pries\", \"prise\", \"ripes\", \"speir\", \"spier\", \"spire\"]\n",
       " [\"aspers\", \"parses\", \"passer\", \"prases\", \"repass\", \"spares\", \"sparse\", \"spears\"]\n",
       " [\"lapse\", \"leaps\", \"pales\", \"peals\", \"pleas\", \"salep\", \"sepal\", \"spale\"]\n",
       " [\"acers\", \"acres\", \"cares\", \"carse\", \"escar\", \"races\", \"scare\", \"serac\"]\n",
       " [\"arles\", \"earls\", \"lares\", \"laser\", \"lears\", \"rales\", \"reals\", \"seral\"]\n",
       " [\"palest\", \"palets\", \"pastel\", \"petals\", \"plates\", \"pleats\", \"septal\", \"staple\"]\n",
       " [\"carets\", \"cartes\", \"caster\", \"caters\", \"crates\", \"reacts\", \"recast\", \"traces\"]\n",
       " ⋮\n",
       " [\"fief\", \"fife\"]\n",
       " [\"creations\", \"reactions\"]\n",
       " [\"positrons\", \"sorptions\"]\n",
       " [\"meagerly\", \"meagrely\"]\n",
       " [\"sprouts\", \"stupors\"]\n",
       " [\"dawtie\", \"waited\"]\n",
       " [\"etuis\", \"suite\"]\n",
       " [\"salving\", \"slaving\"]\n",
       " [\"conium\", \"muonic\"]\n",
       " [\"amnestic\", \"semantic\"]\n",
       " [\"salved\", \"slaved\"]\n",
       " [\"ministers\", \"misinters\"]"
      ]
     },
     "execution_count": 29,
     "metadata": {},
     "output_type": "execute_result"
    }
   ],
   "source": [
    "function all_anagrams(words)\n",
    "    letter_words = letters_map(words)\n",
    "    res = []\n",
    "    for (k, v) in letter_words\n",
    "        if length(v) > 1\n",
    "            push!(res, v)\n",
    "        end\n",
    "    end\n",
    "    sort!(res, by=length, rev=true)\n",
    "    res\n",
    "end\n",
    "\n",
    "open(\"words.txt\") do f\n",
    "    words = [i for i in eachline(f)]\n",
    "    all_anagrams(words)\n",
    "end"
   ]
  },
  {
   "cell_type": "code",
   "execution_count": 19,
   "metadata": {},
   "outputs": [
    {
     "name": "stdout",
     "output_type": "stream",
     "text": [
      "[\"angriest\", \"astringe\", \"ganister\", \"gantries\", \"granites\", \"ingrates\", \"rangiest\"]"
     ]
    }
   ],
   "source": [
    "function most_possible_bingo(words)\n",
    "    letter_words = letters_map(words)\n",
    "    count = 0\n",
    "    bingo = nothing\n",
    "    for (k, v) in letter_words\n",
    "        if length(k) == 8\n",
    "            if length(v) > count\n",
    "                count = length(v)\n",
    "                bingo = v\n",
    "            end\n",
    "        end\n",
    "    end\n",
    "    bingo\n",
    "end\n",
    "\n",
    "open(\"words.txt\") do f\n",
    "    words = [i for i in eachline(f)]\n",
    "    print(most_possible_bingo(words))\n",
    "end"
   ]
  },
  {
   "cell_type": "markdown",
   "metadata": {},
   "source": [
    "#### Exercise 12-4\n",
    "Two words form a “metathesis pair” if you can transform one into the other by swapping two letters; for example, “converse” and “conserve”. Write a program that finds all of the metathesis pairs in the dictionary.\n",
    "\n",
    "> Don’t test all pairs of words, and don’t test all possible swaps.\n",
    "\n",
    "Credit: This exercise is inspired by an example at http://puzzlers.org."
   ]
  },
  {
   "cell_type": "code",
   "execution_count": 31,
   "metadata": {},
   "outputs": [
    {
     "data": {
      "text/plain": [
       "3311-element Vector{Any}:\n",
       " (\"pares\", \"parse\")\n",
       " (\"pares\", \"rapes\")\n",
       " (\"parse\", \"prase\")\n",
       " (\"pears\", \"reaps\")\n",
       " (\"prase\", \"presa\")\n",
       " (\"alters\", \"artels\")\n",
       " (\"artels\", \"ratels\")\n",
       " (\"laster\", \"salter\")\n",
       " (\"salter\", \"slater\")\n",
       " (\"slater\", \"staler\")\n",
       " (\"staler\", \"stelar\")\n",
       " (\"setal\", \"steal\")\n",
       " (\"slate\", \"stale\")\n",
       " ⋮\n",
       " (\"altruists\", \"ultraists\")\n",
       " (\"bin\", \"nib\")\n",
       " (\"copula\", \"cupola\")\n",
       " (\"big\", \"gib\")\n",
       " (\"feels\", \"flees\")\n",
       " (\"cine\", \"nice\")\n",
       " (\"outputs\", \"putouts\")\n",
       " (\"fief\", \"fife\")\n",
       " (\"meagerly\", \"meagrely\")\n",
       " (\"salving\", \"slaving\")\n",
       " (\"salved\", \"slaved\")\n",
       " (\"ministers\", \"misinters\")"
      ]
     },
     "execution_count": 31,
     "metadata": {},
     "output_type": "execute_result"
    }
   ],
   "source": [
    "function is_metathesis_pair(word1, word2)\n",
    "    diff_count = 0\n",
    "    for (i, j) in zip(word1, word2)\n",
    "        if i != j\n",
    "            diff_count += 1\n",
    "        end\n",
    "        if diff_count > 2\n",
    "            return false\n",
    "        end\n",
    "    end\n",
    "    true\n",
    "end\n",
    "\n",
    "open(\"words.txt\") do f\n",
    "    words = [i for i in eachline(f)]\n",
    "    anagrams = all_anagrams(words)\n",
    "    res = []\n",
    "    for word_list in anagrams\n",
    "        i = firstindex(word_list)\n",
    "        while i < length(word_list)\n",
    "            j = nextind(word_list, i)\n",
    "            word1 = word_list[i]\n",
    "            for word2 in word_list[j:end]\n",
    "                if is_metathesis_pair(word1, word2)\n",
    "                    push!(res, (word1, word2))\n",
    "                end\n",
    "            end\n",
    "            i = j\n",
    "        end\n",
    "    end\n",
    "    res\n",
    "end"
   ]
  },
  {
   "cell_type": "markdown",
   "metadata": {},
   "source": [
    "## 13. Case Study: Data Structure Selection"
   ]
  },
  {
   "cell_type": "code",
   "execution_count": null,
   "metadata": {},
   "outputs": [],
   "source": []
  },
  {
   "cell_type": "code",
   "execution_count": null,
   "metadata": {},
   "outputs": [],
   "source": []
  },
  {
   "cell_type": "code",
   "execution_count": null,
   "metadata": {},
   "outputs": [],
   "source": []
  },
  {
   "cell_type": "code",
   "execution_count": null,
   "metadata": {},
   "outputs": [],
   "source": []
  },
  {
   "cell_type": "code",
   "execution_count": null,
   "metadata": {},
   "outputs": [],
   "source": []
  },
  {
   "cell_type": "code",
   "execution_count": null,
   "metadata": {},
   "outputs": [],
   "source": []
  },
  {
   "cell_type": "code",
   "execution_count": null,
   "metadata": {},
   "outputs": [],
   "source": []
  },
  {
   "cell_type": "code",
   "execution_count": null,
   "metadata": {},
   "outputs": [],
   "source": []
  },
  {
   "cell_type": "code",
   "execution_count": null,
   "metadata": {},
   "outputs": [],
   "source": []
  }
 ],
 "metadata": {
  "kernelspec": {
   "display_name": "Julia 1.4.1",
   "language": "julia",
   "name": "julia-1.4"
  },
  "language_info": {
   "file_extension": ".jl",
   "mimetype": "application/julia",
   "name": "julia",
   "version": "1.6.2"
  }
 },
 "nbformat": 4,
 "nbformat_minor": 4
}
