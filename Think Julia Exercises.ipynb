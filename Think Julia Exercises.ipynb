{
 "cells": [
  {
   "cell_type": "markdown",
   "metadata": {},
   "source": [
    "## 1. The Way of the Program\n",
    "\n",
    "#### Exercise 1-1\n",
    "1. In a print statement, what happens if you leave out one of the parentheses, or both?\n",
    "\n",
    "2. If you are trying to print a string, what happens if you leave out one of the quotation marks, or both?\n",
    "\n",
    "3. You can use a minus sign to make a negative number like -2. What happens if you put a plus sign before a number? What about 2++2?\n",
    "\n",
    "4. In math notation, leading zeros are okay, as in 02. What happens if you try this in Julia?\n",
    "\n",
    "5. What happens if you have two values with no operator between them?"
   ]
  },
  {
   "cell_type": "markdown",
   "metadata": {},
   "source": [
    "#### Exercise 1-2\n",
    "1. How many seconds are there in 42 minutes 42 seconds?\n",
    "2. How many miles are there in 10 kilometers?\n",
    "3. If you run a 10-kilometer race in 37 minutes 48 seconds, what is your average pace (time per mile in minutes and seconds)? What is your average speed in miles per hour?"
   ]
  },
  {
   "cell_type": "code",
   "execution_count": 1,
   "metadata": {},
   "outputs": [
    {
     "name": "stdout",
     "output_type": "stream",
     "text": [
      "Total seconds: 2580\n"
     ]
    }
   ],
   "source": [
    "println(\"Total seconds: $(43 * 60)\")"
   ]
  },
  {
   "cell_type": "code",
   "execution_count": 2,
   "metadata": {},
   "outputs": [
    {
     "name": "stdout",
     "output_type": "stream",
     "text": [
      "10 km equal 6.211180124223602 miles\n"
     ]
    }
   ],
   "source": [
    "println(\"10 km equal $(10 / 1.61) miles\")"
   ]
  },
  {
   "cell_type": "code",
   "execution_count": 3,
   "metadata": {},
   "outputs": [
    {
     "name": "stdout",
     "output_type": "stream",
     "text": [
      "Average pace: 6.0 minutes 5.0 seconds per mile\n"
     ]
    }
   ],
   "source": [
    "total_seconds = 37 * 60 + 48\n",
    "miles = 10 / 1.61\n",
    "pace = total_seconds / miles\n",
    "min, sec = divrem(pace, 60)\n",
    "println(\"Average pace: $min minutes $(round(sec)) seconds per mile\")"
   ]
  },
  {
   "cell_type": "code",
   "execution_count": 4,
   "metadata": {},
   "outputs": [
    {
     "name": "stdout",
     "output_type": "stream",
     "text": [
      "Average speed: 10.0 mph"
     ]
    }
   ],
   "source": [
    "print(\"Average speed: $(round(miles / total_seconds * 3600)) mph\")"
   ]
  },
  {
   "cell_type": "markdown",
   "metadata": {},
   "source": [
    "## 2. Variables, Expressions and Statements\n",
    "\n",
    "#### Exercise 2-3\n",
    "\n",
    "1. The volume of a sphere with radius $r$ is $\\frac{4}{3}43\\pi r^3$. What is the volume of a sphere with radius 5?\n",
    "\n",
    "2. Suppose the cover price of a book is `$24.95`, but bookstores get a `40%` discount. Shipping costs `$3` for the first copy and 75 cents for each additional copy. What is the total wholesale cost for 60 copies?\n",
    "\n",
    "3. If I leave my house at 6:52 am and run 1 mile at an easy pace (8:15 per mile), then 3 miles at tempo (7:12 per mile) and 1 mile at easy pace again, what time do I get home for breakfast?"
   ]
  },
  {
   "cell_type": "code",
   "execution_count": 5,
   "metadata": {},
   "outputs": [
    {
     "name": "stdout",
     "output_type": "stream",
     "text": [
      "Volume of a sphere with radius 5 is: 523.6"
     ]
    }
   ],
   "source": [
    "r = 5\n",
    "\n",
    "volume = round(4 / 3 * π * r ^ 3, digits=1)\n",
    "print(\"Volume of a sphere with radius 5 is: $volume\")"
   ]
  },
  {
   "cell_type": "code",
   "execution_count": 6,
   "metadata": {},
   "outputs": [
    {
     "name": "stdout",
     "output_type": "stream",
     "text": [
      "Total wholesale cost for 60 copies: $945.45"
     ]
    }
   ],
   "source": [
    "n = 60\n",
    "price = 24.95 * 0.6  # 40% discount\n",
    "shipping_cost = 3 + (n-1) * .75\n",
    "total = round(n * price + shipping_cost, digits=2)\n",
    "print(\"Total wholesale cost for $n copies: \\$$total\")"
   ]
  },
  {
   "cell_type": "code",
   "execution_count": 7,
   "metadata": {},
   "outputs": [
    {
     "name": "stdout",
     "output_type": "stream",
     "text": [
      "Total run time: 38 minutes, 6 seconds\n",
      "If I leave my house at 6:52 am, I'll get home at 7:30 am\n"
     ]
    }
   ],
   "source": [
    "easy = 8 * 60 + 15\n",
    "tempo = 7 * 60 + 12\n",
    "\n",
    "total_sec = easy * 2 + tempo * 3\n",
    "min, sec = divrem(total_sec, 60)\n",
    "println(\"Total run time: $min minutes, $sec seconds\")\n",
    "\n",
    "println(\"If I leave my house at 6:52 am, I'll get home at 7:30 am\")"
   ]
  },
  {
   "cell_type": "markdown",
   "metadata": {},
   "source": [
    "## 3. Functions\n",
    "\n",
    "#### Exercise 3-2\n",
    "Write a function named rightjustify that takes a string named s as a parameter and prints the string with enough leading spaces so that the last letter of the string is in column 70 of the display."
   ]
  },
  {
   "cell_type": "code",
   "execution_count": 8,
   "metadata": {},
   "outputs": [
    {
     "name": "stdout",
     "output_type": "stream",
     "text": [
      "                                                               Meo meo"
     ]
    }
   ],
   "source": [
    "function rightjustify(s)\n",
    "    space = 70 - length(s)\n",
    "    print(\"$(\" \" ^ space)$s\")\n",
    "end\n",
    "rightjustify(\"Meo meo\")"
   ]
  },
  {
   "cell_type": "markdown",
   "metadata": {},
   "source": [
    "#### Exercise 3-3\n",
    "1. Type this example into a script and test it.\n",
    "\n",
    "2. Modify dotwice so that it takes two arguments, a function object and a value, and calls the function twice, passing the value as an argument.\n",
    "\n",
    "3. Copy the definition of printtwice from earlier in this chapter to your script.\n",
    "\n",
    "4. Use the modified version of dotwice to call printtwice twice, passing \"spam\" as an argument.\n",
    "\n",
    "5. Define a new function called dofour that takes a function object and a value and calls the function four times, passing the value as a parameter. There should be only two statements in the body of this function, not four."
   ]
  },
  {
   "cell_type": "code",
   "execution_count": 9,
   "metadata": {},
   "outputs": [
    {
     "name": "stdout",
     "output_type": "stream",
     "text": [
      "spam\n",
      "spam\n"
     ]
    }
   ],
   "source": [
    "function dotwice(f)\n",
    "    f()\n",
    "    f()\n",
    "end\n",
    "\n",
    "function printspam()\n",
    "    println(\"spam\")\n",
    "end\n",
    "\n",
    "dotwice(printspam)"
   ]
  },
  {
   "cell_type": "code",
   "execution_count": 10,
   "metadata": {},
   "outputs": [
    {
     "name": "stdout",
     "output_type": "stream",
     "text": [
      "spam\n",
      "spam\n",
      "spam\n",
      "spam\n"
     ]
    }
   ],
   "source": [
    "function dotwice(f, v)\n",
    "    f(v)\n",
    "    f(v)\n",
    "end\n",
    "\n",
    "function printtwice(t)\n",
    "    println(t)\n",
    "    println(t)\n",
    "end\n",
    "\n",
    "dotwice(printtwice, \"spam\")"
   ]
  },
  {
   "cell_type": "code",
   "execution_count": 11,
   "metadata": {},
   "outputs": [
    {
     "name": "stdout",
     "output_type": "stream",
     "text": [
      "Ahihi\n",
      "Ahihi\n",
      "Ahihi\n",
      "Ahihi\n"
     ]
    }
   ],
   "source": [
    "function dofour(f, v)\n",
    "    dotwice(f, v)\n",
    "    dotwice(f, v)\n",
    "end\n",
    "\n",
    "dofour(println, \"Ahihi\")"
   ]
  },
  {
   "cell_type": "markdown",
   "metadata": {},
   "source": [
    "#### Exercise 3-4"
   ]
  },
  {
   "cell_type": "code",
   "execution_count": 12,
   "metadata": {},
   "outputs": [
    {
     "name": "stdout",
     "output_type": "stream",
     "text": [
      "+ - - - - + - - - - +\n",
      "|         |         |\n",
      "|         |         |\n",
      "|         |         |\n",
      "|         |         |\n",
      "+ - - - - + - - - - +\n",
      "|         |         |\n",
      "|         |         |\n",
      "|         |         |\n",
      "|         |         |\n",
      "+ - - - - + - - - - +\n"
     ]
    }
   ],
   "source": [
    "function print_border()\n",
    "    println(\"+ - - - - + - - - - +\")\n",
    "end\n",
    "\n",
    "function print_row()\n",
    "    for i in 1:4\n",
    "        println(\"|         |         |\")\n",
    "    end\n",
    "end\n",
    "\n",
    "function print_grid(n=2)\n",
    "    for i in 1:n\n",
    "        print_border()\n",
    "        print_row()\n",
    "    end\n",
    "    print_border()\n",
    "end\n",
    "\n",
    "print_grid()"
   ]
  },
  {
   "cell_type": "markdown",
   "metadata": {},
   "source": [
    "## 4. Case Study: Interface Design"
   ]
  },
  {
   "cell_type": "code",
   "execution_count": 13,
   "metadata": {},
   "outputs": [],
   "source": [
    "# import Pkg; Pkg.add(url=\"https://github.com/BenLauwens/ThinkJulia.jl\")"
   ]
  },
  {
   "cell_type": "code",
   "execution_count": 14,
   "metadata": {},
   "outputs": [],
   "source": [
    "# import Pkg; Pkg.add(\"Luxor\")"
   ]
  },
  {
   "cell_type": "code",
   "execution_count": 27,
   "metadata": {
    "scrolled": true
   },
   "outputs": [
    {
     "name": "stderr",
     "output_type": "stream",
     "text": [
      "┌ Info: Precompiling ThinkJulia [a7f2b756-c18b-4c7f-87da-faca9ac81b29]\n",
      "└ @ Base loading.jl:1342\n",
      "┌ Info: Skipping precompilation since __precompile__(false). Importing ThinkJulia [a7f2b756-c18b-4c7f-87da-faca9ac81b29].\n",
      "└ @ Base loading.jl:1047\n"
     ]
    }
   ],
   "source": [
    "using ThinkJulia, Luxor"
   ]
  },
  {
   "cell_type": "code",
   "execution_count": 28,
   "metadata": {},
   "outputs": [
    {
     "data": {
      "text/plain": [
       "Turtle(-100.0, -100.0, true, 0.0, (0.0, 0.0, 0.0))"
      ]
     },
     "execution_count": 28,
     "metadata": {},
     "output_type": "execute_result"
    }
   ],
   "source": [
    "🐢 = Turtle(-100, -100)"
   ]
  },
  {
   "cell_type": "code",
   "execution_count": 29,
   "metadata": {},
   "outputs": [
    {
     "data": {
      "image/png": "[encoded data removed]",
      "text/plain": [
       "\n",
       "    width:    300.0\n",
       "height:   300.0\n",
       "filename: \n",
       "type:     png\n",
       "    "
      ]
     },
     "metadata": {},
     "output_type": "display_data"
    }
   ],
   "source": [
    "@draw begin\n",
    "    for i in 1:4\n",
    "        forward(🐢, 200)\n",
    "        turn(🐢, 90)\n",
    "    end\n",
    "end 300 300"
   ]
  },
  {
   "cell_type": "markdown",
   "metadata": {},
   "source": [
    "#### Exercise 4-2\n",
    "Write a function called `square` that takes a parameter named `t`, which is a turtle. It should use the turtle to draw a square.\n",
    "#### Exercise 4-3\n",
    "Write a function call that passes `t` as an argument to `square`, and then run the macro again."
   ]
  },
  {
   "cell_type": "code",
   "execution_count": 30,
   "metadata": {},
   "outputs": [
    {
     "data": {
      "image/png": "[encoded data removed]",
      "text/plain": [
       "\n",
       "    width:    300.0\n",
       "height:   300.0\n",
       "filename: \n",
       "type:     png\n",
       "    "
      ]
     },
     "metadata": {},
     "output_type": "display_data"
    }
   ],
   "source": [
    "function square(t)\n",
    "    for i in 1:4\n",
    "        forward(t, 200)\n",
    "        turn(t, 90)\n",
    "    end\n",
    "end\n",
    "\n",
    "@draw begin\n",
    "    square(🐢)\n",
    "end 300 300"
   ]
  },
  {
   "cell_type": "markdown",
   "metadata": {},
   "source": [
    "#### Exercise 4-4\n",
    "Add another parameter, named `len`, to `square`. Modify the body so length of the sides is `len`, and then modify the function call to provide a second argument. Run the macro again. Test with a range of values for len."
   ]
  },
  {
   "cell_type": "code",
   "execution_count": 31,
   "metadata": {},
   "outputs": [
    {
     "data": {
      "image/png": "[encoded data removed]",
      "text/plain": [
       "\n",
       "    width:    400.0\n",
       "height:   400.0\n",
       "filename: \n",
       "type:     png\n",
       "    "
      ]
     },
     "metadata": {},
     "output_type": "display_data"
    }
   ],
   "source": [
    "🐢 = Turtle(-200, -200)\n",
    "function square(t, len)\n",
    "    for i in 1:4\n",
    "        forward(t, len)\n",
    "        turn(t, 90)\n",
    "    end\n",
    "end\n",
    "\n",
    "@draw begin\n",
    "    for i in 1:3\n",
    "        square(🐢, i * 100)\n",
    "    end\n",
    "end 400 400"
   ]
  },
  {
   "cell_type": "markdown",
   "metadata": {},
   "source": [
    "#### Exercise 4-5\n",
    "Make a copy of square and change the name to polygon. Add another parameter named n and modify the body so it draws an n-sided regular polygon."
   ]
  },
  {
   "cell_type": "code",
   "execution_count": 32,
   "metadata": {},
   "outputs": [
    {
     "data": {
      "image/png": "[encoded data removed]",
      "text/plain": [
       "\n",
       "    width:    300.0\n",
       "height:   250.0\n",
       "filename: \n",
       "type:     png\n",
       "    "
      ]
     },
     "metadata": {},
     "output_type": "display_data"
    }
   ],
   "source": [
    "🐢 = Turtle(-100, -100)\n",
    "\n",
    "function polygon(t, n, len)\n",
    "    angle = 360 / n\n",
    "    for i in 1:n\n",
    "        forward(t, len)\n",
    "        turn(t, angle)\n",
    "    end\n",
    "end\n",
    "\n",
    "@draw begin\n",
    "    polygon(🐢, 6, 100)\n",
    "end 300 250"
   ]
  },
  {
   "cell_type": "markdown",
   "metadata": {},
   "source": [
    "#### Exercise 4-6\n",
    "Write a function called `circle` that takes a turtle, `t`, and radius, `r`, as parameters and that draws an approximate circle by calling polygon with an appropriate length and number of sides. Test your function with a range of values of `r`."
   ]
  },
  {
   "cell_type": "code",
   "execution_count": 33,
   "metadata": {},
   "outputs": [
    {
     "data": {
      "image/png": "[encoded data removed]",
      "text/plain": [
       "\n",
       "    width:    300.0\n",
       "height:   300.0\n",
       "filename: \n",
       "type:     png\n",
       "    "
      ]
     },
     "metadata": {},
     "output_type": "display_data"
    }
   ],
   "source": [
    "🐢 = Turtle(0, -100)\n",
    "\n",
    "function ncircle(t, r)\n",
    "    circumference = 2 * π * r\n",
    "    n = trunc(circumference / 3) + 3\n",
    "    len = circumference / n\n",
    "    polygon(t, n, len)\n",
    "end\n",
    "\n",
    "@draw begin\n",
    "    ncircle(🐢, 100)\n",
    "end 300 300"
   ]
  },
  {
   "cell_type": "markdown",
   "metadata": {},
   "source": [
    "#### Exercise 4-7\n",
    "Make a more general version of circle called `arc` that takes an additional parameter `angle`, which determines what fraction of a circle to draw. `angle` is in units of degrees, so when `angle = 360`, `arc` should draw a complete circle."
   ]
  },
  {
   "cell_type": "code",
   "execution_count": 34,
   "metadata": {},
   "outputs": [
    {
     "data": {
      "image/png": "[encoded data removed]",
      "text/plain": [
       "\n",
       "    width:    300.0\n",
       "height:   300.0\n",
       "filename: \n",
       "type:     png\n",
       "    "
      ]
     },
     "metadata": {},
     "output_type": "display_data"
    }
   ],
   "source": [
    "function polyline(t, n, len, angle)\n",
    "    for i in 1:n\n",
    "        forward(t, len)\n",
    "        turn(t, -angle)\n",
    "    end\n",
    "end\n",
    "\n",
    "function polygon(t, n, len)\n",
    "    angle = 360 / n\n",
    "    polyline(t, n, len, angle)\n",
    "end\n",
    "\n",
    "function narc(t, r, angle)\n",
    "    arc_len = 2 * π * r * angle / 360\n",
    "    n = trunc(arc_len / 3) + 1\n",
    "    step_len = arc_len / n\n",
    "    step_angle = angle / n\n",
    "    polyline(t, n, step_len, step_angle)\n",
    "end\n",
    "\n",
    "function ncircle(t, r)\n",
    "    narc(t, r, 360)\n",
    "end\n",
    "\n",
    "🐢 = Turtle(0, 100)\n",
    "@draw begin\n",
    "    ncircle(🐢, 100)\n",
    "end 300 300"
   ]
  },
  {
   "cell_type": "markdown",
   "metadata": {},
   "source": [
    "#### Exercise 4-9\n",
    "Write an appropriately general set of functions that can draw flowers as in Turtle flowers.\n"
   ]
  },
  {
   "cell_type": "markdown",
   "metadata": {},
   "source": [
    "## 5. Conditionals and Recursion"
   ]
  },
  {
   "cell_type": "markdown",
   "metadata": {},
   "source": [
    "#### Exercise 5-2\n",
    "The function time returns the current Greenwich Mean Time in seconds since “the epoch”, which is an arbitrary time used as a reference point. On UNIX systems, the epoch is 1 January 1970.  \n",
    "Write a script that reads the current time and converts it to a time of day in hours, minutes, and seconds, plus the number of days since the epoch."
   ]
  },
  {
   "cell_type": "code",
   "execution_count": 23,
   "metadata": {},
   "outputs": [
    {
     "name": "stdout",
     "output_type": "stream",
     "text": [
      "18847 days since epoch. Time: 6:29:16\n"
     ]
    }
   ],
   "source": [
    "function parse_date(t)\n",
    "    days, r = divrem(round(t, digits=0), 86400)\n",
    "    hours, r1 = divrem(r, 3600)\n",
    "    minutes, seconds = divrem(r1, 60)\n",
    "    println(\"$(Int(days)) days since epoch. Time: $(Int(hours)):$(Int(minutes)):$(Int(seconds))\")\n",
    "end\n",
    "\n",
    "parse_date(time())"
   ]
  },
  {
   "cell_type": "markdown",
   "metadata": {},
   "source": [
    "#### Exercise 5-3\n",
    "Fermat’s Last Theorem says that there are no positive integers $a$, $b$, and $c$ such that\n",
    "\n",
    "$$a^n + b^n = c^n$$\n",
    "\n",
    "for any value of $n$ greater than 2.\n",
    "\n",
    "Write a function named checkfermat that takes four parameters - `a, b, c and n` - and checks to see if Fermat’s theorem holds. If `n` is greater than 2 and `a^n + b^n == c^n` the program should print, “Holy smokes, Fermat was wrong!” Otherwise the program should print, “No, that doesn’t work.”\n",
    "\n",
    "Write a function that prompts the user to input values for a, b, c and n, converts them to integers, and uses checkfermat to check whether they violate Fermat’s theorem."
   ]
  },
  {
   "cell_type": "code",
   "execution_count": 24,
   "metadata": {},
   "outputs": [],
   "source": [
    "function checkfermat(a, b, c, n)\n",
    "  a, b, c, n = UInt128(a), UInt128(b), UInt128(c), UInt128(n)\n",
    "  if (a ^ n + b ^ n) == c ^ n\n",
    "    return true\n",
    "  else\n",
    "    return false\n",
    "  end\n",
    "end\n",
    "\n",
    "for a in 2:100\n",
    "  for b in 2:100\n",
    "    for c in 2:100\n",
    "      for n in 2:20\n",
    "        if checkfermat(a, b, c, n) && n > 2\n",
    "          println(\"a: $a \\nb: $b \\nc: $c\\nn: $n\")\n",
    "          println(\"Holy smokes, Fermat was wrong!\")\n",
    "        end\n",
    "      end\n",
    "    end\n",
    "  end\n",
    "end"
   ]
  },
  {
   "cell_type": "code",
   "execution_count": 25,
   "metadata": {},
   "outputs": [
    {
     "name": "stdout",
     "output_type": "stream",
     "text": [
      "Yes\n"
     ]
    }
   ],
   "source": [
    "function istriangle(a, b, c)\n",
    "    if (a + b < c || b + c < a || a + c < b)\n",
    "        println(\"No\")\n",
    "    else\n",
    "        println(\"Yes\")\n",
    "    end\n",
    "end\n",
    "istriangle(2, 4, 5)"
   ]
  },
  {
   "cell_type": "markdown",
   "metadata": {},
   "source": [
    "#### Exercise 5-4\n",
    "If you are given three sticks, you may or may not be able to arrange them in a triangle. For example, if one of the sticks is 12 inches long and the other two are one inch long, you will not be able to get the short sticks to meet in the middle. For any three lengths, there is a simple test to see if it is possible to form a triangle:\n",
    "\n",
    "> If you are given three sticks, you may or may not be able to arrange them in a triangle. For example, if one of the sticks is 12 inches long and the other two are one inch long, you will not be able to get the short sticks to meet in the middle. For any three lengths, there is a simple test to see if it is possible to form a triangle:\n",
    "\n",
    "1. Write a function named `istriangle` that takes three integers as arguments, and that prints either “Yes” or “No”, depending on whether you can or cannot form a triangle from sticks with the given lengths.\n",
    "\n",
    "2. Write a function that prompts the user to input three stick lengths, converts them to integers, and uses `istriangle` to check whether sticks with the given lengths can form a triangle."
   ]
  },
  {
   "cell_type": "code",
   "execution_count": 30,
   "metadata": {},
   "outputs": [
    {
     "name": "stdout",
     "output_type": "stream",
     "text": [
      "Enter 3 length to check if they can form a triangle:stdin> 1\n",
      "stdin> 2\n",
      "stdin> 3\n",
      "a = \"1\"\n",
      "b = \"2\"\n",
      "c = \"3\"\n",
      "Yes\n"
     ]
    }
   ],
   "source": [
    "function check_triangle()\n",
    "    print(\"Enter 3 length to check if they can form a triangle:\")\n",
    "    a = readline()\n",
    "    b = readline()\n",
    "    c = readline()\n",
    "    @show a b c\n",
    "    a, b, c = parse(Int64, a), parse(Int64, b), parse(Int64, c)\n",
    "    istriangle(a, b, c)\n",
    "end\n",
    "check_triangle()"
   ]
  },
  {
   "cell_type": "markdown",
   "metadata": {},
   "source": [
    "#### Exercise 5-5\n",
    "1. What would happen if you called this function like this: recurse(-1, 0)?\n",
    "> StackOverflowError\n",
    "\n",
    "2. Write a docstring that explains everything someone would need to know in order to use this function (and nothing else)."
   ]
  },
  {
   "cell_type": "code",
   "execution_count": 25,
   "metadata": {},
   "outputs": [
    {
     "name": "stdout",
     "output_type": "stream",
     "text": [
      "12\n"
     ]
    }
   ],
   "source": [
    "\"\"\"\n",
    "s + ∑i, 0 ≤ i ≤ n, i ∈ ℕ \n",
    "\"\"\"\n",
    "function recurse(n, s)\n",
    "    if n == 0\n",
    "        println(s)\n",
    "    else\n",
    "        recurse(n-1, n+s)\n",
    "    end\n",
    "end\n",
    "\n",
    "recurse(4, 2)"
   ]
  },
  {
   "cell_type": "code",
   "execution_count": null,
   "metadata": {},
   "outputs": [],
   "source": []
  },
  {
   "cell_type": "code",
   "execution_count": null,
   "metadata": {},
   "outputs": [],
   "source": []
  },
  {
   "cell_type": "code",
   "execution_count": null,
   "metadata": {},
   "outputs": [],
   "source": []
  },
  {
   "cell_type": "code",
   "execution_count": null,
   "metadata": {},
   "outputs": [],
   "source": []
  },
  {
   "cell_type": "code",
   "execution_count": null,
   "metadata": {},
   "outputs": [],
   "source": []
  },
  {
   "cell_type": "code",
   "execution_count": null,
   "metadata": {},
   "outputs": [],
   "source": []
  },
  {
   "cell_type": "code",
   "execution_count": null,
   "metadata": {},
   "outputs": [],
   "source": []
  },
  {
   "cell_type": "code",
   "execution_count": null,
   "metadata": {},
   "outputs": [],
   "source": []
  },
  {
   "cell_type": "code",
   "execution_count": null,
   "metadata": {},
   "outputs": [],
   "source": []
  }
 ],
 "metadata": {
  "kernelspec": {
   "display_name": "Julia 1.4.1",
   "language": "julia",
   "name": "julia-1.4"
  },
  "language_info": {
   "file_extension": ".jl",
   "mimetype": "application/julia",
   "name": "julia",
   "version": "1.6.2"
  }
 },
 "nbformat": 4,
 "nbformat_minor": 4
}
